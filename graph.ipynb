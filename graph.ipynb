{
 "cells": [
  {
   "cell_type": "code",
   "execution_count": 33,
   "metadata": {},
   "outputs": [
    {
     "data": {
      "text/plain": [
       "True"
      ]
     },
     "execution_count": 33,
     "metadata": {},
     "output_type": "execute_result"
    }
   ],
   "source": [
    "from langgraph.types import Literal,Command\n",
    "from langgraph.graph import StateGraph,START,END,MessagesState\n",
    "from langchain_google_genai import ChatGoogleGenerativeAI\n",
    "from langchain_community.utilities import SQLDatabase\n",
    "from langchain_deepseek import ChatDeepSeek\n",
    "from dotenv import load_dotenv\n",
    "from langchain.chains import create_sql_query_chain\n",
    "from sqlalchemy import create_engine\n",
    "from langgraph.checkpoint.memory import MemorySaver\n",
    "from langchain_core.tools import tool\n",
    "from langgraph.prebuilt import create_react_agent\n",
    "from typing_extensions import TypedDict,List,Optional,Annotated\n",
    "from langchain_community.agent_toolkits import SQLDatabaseToolkit\n",
    "from langchain_core.messages import AIMessage\n",
    "from langgraph.checkpoint.memory import InMemorySaver\n",
    "from langchain_nvidia_ai_endpoints import ChatNVIDIA\n",
    "from pydantic import Field,BaseModel\n",
    "import asyncio\n",
    "import os\n",
    "load_dotenv()"
   ]
  },
  {
   "cell_type": "code",
   "execution_count": 34,
   "metadata": {},
   "outputs": [],
   "source": [
    "models=ChatNVIDIA.get_available_models()"
   ]
  },
  {
   "cell_type": "code",
   "execution_count": 35,
   "metadata": {},
   "outputs": [
    {
     "data": {
      "text/plain": [
       "[Model(id='google/codegemma-1.1-7b', model_type='chat', client='ChatNVIDIA', endpoint=None, aliases=['ai-codegemma-1.1-7b'], supports_tools=False, supports_structured_output=False, base_model=None),\n",
       " Model(id='upstage/solar-10.7b-instruct', model_type='chat', client='ChatNVIDIA', endpoint=None, aliases=['ai-solar-10_7b-instruct'], supports_tools=False, supports_structured_output=False, base_model=None),\n",
       " Model(id='mistralai/mixtral-8x22b-instruct-v0.1', model_type='chat', client='ChatNVIDIA', endpoint=None, aliases=['ai-mixtral-8x22b-instruct'], supports_tools=False, supports_structured_output=False, base_model=None),\n",
       " Model(id='ai21labs/jamba-1.5-large-instruct', model_type='chat', client='ChatNVIDIA', endpoint=None, aliases=None, supports_tools=False, supports_structured_output=False, base_model=None),\n",
       " Model(id='meta/llama-3.1-70b-instruct', model_type='chat', client='ChatNVIDIA', endpoint=None, aliases=None, supports_tools=True, supports_structured_output=True, base_model=None),\n",
       " Model(id='meta/llama-3.2-3b-instruct', model_type='chat', client='ChatNVIDIA', endpoint=None, aliases=None, supports_tools=True, supports_structured_output=True, base_model=None),\n",
       " Model(id='microsoft/phi-3-small-8k-instruct', model_type='chat', client='ChatNVIDIA', endpoint=None, aliases=['ai-phi-3-small-8k-instruct'], supports_tools=False, supports_structured_output=False, base_model=None),\n",
       " Model(id='mistralai/mistral-large', model_type='chat', client='ChatNVIDIA', endpoint=None, aliases=['ai-mistral-large'], supports_tools=False, supports_structured_output=False, base_model=None),\n",
       " Model(id='microsoft/phi-3.5-mini-instruct', model_type='chat', client='ChatNVIDIA', endpoint=None, aliases=None, supports_tools=False, supports_structured_output=False, base_model=None),\n",
       " Model(id='nvidia/llama3-chatqa-1.5-8b', model_type='qa', client='ChatNVIDIA', endpoint=None, aliases=['ai-chatqa-1.5-8b'], supports_tools=False, supports_structured_output=False, base_model=None),\n",
       " Model(id='ibm/granite-8b-code-instruct', model_type='chat', client='ChatNVIDIA', endpoint=None, aliases=['ai-granite-8b-code-instruct'], supports_tools=False, supports_structured_output=False, base_model=None),\n",
       " Model(id='google/gemma-2-9b-it', model_type='chat', client='ChatNVIDIA', endpoint=None, aliases=['ai-gemma-2-9b-it'], supports_tools=False, supports_structured_output=False, base_model=None),\n",
       " Model(id='nvidia/mistral-nemo-minitron-8b-8k-instruct', model_type='chat', client='ChatNVIDIA', endpoint=None, aliases=None, supports_tools=False, supports_structured_output=True, base_model=None),\n",
       " Model(id='yentinglin/llama-3-taiwan-70b-instruct', model_type='chat', client='ChatNVIDIA', endpoint=None, aliases=None, supports_tools=False, supports_structured_output=False, base_model=None),\n",
       " Model(id='zyphra/zamba2-7b-instruct', model_type='chat', client='ChatNVIDIA', endpoint=None, aliases=None, supports_tools=False, supports_structured_output=False, base_model=None),\n",
       " Model(id='mistralai/mamba-codestral-7b-v0.1', model_type='chat', client='ChatNVIDIA', endpoint=None, aliases=None, supports_tools=False, supports_structured_output=False, base_model=None),\n",
       " Model(id='google/gemma-7b', model_type='chat', client='ChatNVIDIA', endpoint=None, aliases=['ai-gemma-7b', 'playground_gemma_7b', 'gemma_7b'], supports_tools=False, supports_structured_output=False, base_model=None),\n",
       " Model(id='nvidia/usdcode-llama3-70b-instruct', model_type='chat', client='ChatNVIDIA', endpoint=None, aliases=None, supports_tools=False, supports_structured_output=False, base_model=None),\n",
       " Model(id='ai21labs/jamba-1.5-mini-instruct', model_type='chat', client='ChatNVIDIA', endpoint=None, aliases=None, supports_tools=False, supports_structured_output=False, base_model=None),\n",
       " Model(id='nvidia/nemotron-4-mini-hindi-4b-instruct', model_type='chat', client='ChatNVIDIA', endpoint=None, aliases=None, supports_tools=False, supports_structured_output=True, base_model=None),\n",
       " Model(id='microsoft/phi-3-small-128k-instruct', model_type='chat', client='ChatNVIDIA', endpoint=None, aliases=['ai-phi-3-small-128k-instruct'], supports_tools=False, supports_structured_output=False, base_model=None),\n",
       " Model(id='microsoft/phi-3.5-vision-instruct', model_type='vlm', client='ChatNVIDIA', endpoint=None, aliases=None, supports_tools=False, supports_structured_output=False, base_model=None),\n",
       " Model(id='meta/llama2-70b', model_type='chat', client='ChatNVIDIA', endpoint=None, aliases=['ai-llama2-70b', 'playground_llama2_70b', 'llama2_70b', 'playground_llama2_13b', 'llama2_13b'], supports_tools=False, supports_structured_output=False, base_model=None),\n",
       " Model(id='meta/llama-3.2-90b-vision-instruct', model_type='vlm', client='ChatNVIDIA', endpoint='https://ai.api.nvidia.com/v1/gr/meta/llama-3.2-90b-vision-instruct/chat/completions', aliases=None, supports_tools=False, supports_structured_output=False, base_model=None),\n",
       " Model(id='writer/palmyra-fin-70b-32k', model_type='chat', client='ChatNVIDIA', endpoint=None, aliases=None, supports_tools=False, supports_structured_output=True, base_model=None),\n",
       " Model(id='rakuten/rakutenai-7b-instruct', model_type='chat', client='ChatNVIDIA', endpoint=None, aliases=None, supports_tools=False, supports_structured_output=False, base_model=None),\n",
       " Model(id='google/deplot', model_type='nv-vlm', client='ChatNVIDIA', endpoint='https://ai.api.nvidia.com/v1/vlm/google/deplot', aliases=['ai-google-deplot', 'playground_deplot', 'deplot'], supports_tools=False, supports_structured_output=False, base_model=None),\n",
       " Model(id='ibm/granite-34b-code-instruct', model_type='chat', client='ChatNVIDIA', endpoint=None, aliases=['ai-granite-34b-code-instruct'], supports_tools=False, supports_structured_output=False, base_model=None),\n",
       " Model(id='nvidia/vila', model_type='vlm', client='ChatNVIDIA', endpoint='https://ai.api.nvidia.com/v1/vlm/nvidia/vila', aliases=None, supports_tools=False, supports_structured_output=False, base_model=None),\n",
       " Model(id='nvidia/llama3-chatqa-1.5-70b', model_type='qa', client='ChatNVIDIA', endpoint=None, aliases=['ai-chatqa-1.5-70b'], supports_tools=False, supports_structured_output=False, base_model=None),\n",
       " Model(id='databricks/dbrx-instruct', model_type='chat', client='ChatNVIDIA', endpoint=None, aliases=['ai-dbrx-instruct'], supports_tools=False, supports_structured_output=False, base_model=None),\n",
       " Model(id='mistralai/mistral-7b-instruct-v0.3', model_type='chat', client='ChatNVIDIA', endpoint=None, aliases=['ai-mistral-7b-instruct-v03'], supports_tools=False, supports_structured_output=False, base_model=None),\n",
       " Model(id='writer/palmyra-med-70b-32k', model_type='chat', client='ChatNVIDIA', endpoint=None, aliases=['ai-palmyra-med-70b-32k'], supports_tools=False, supports_structured_output=False, base_model=None),\n",
       " Model(id='meta/llama-3.3-70b-instruct', model_type='chat', client='ChatNVIDIA', endpoint=None, aliases=None, supports_tools=True, supports_structured_output=True, base_model=None),\n",
       " Model(id='google/gemma-2-2b-it', model_type='chat', client='ChatNVIDIA', endpoint=None, aliases=None, supports_tools=False, supports_structured_output=False, base_model=None),\n",
       " Model(id='mistralai/mixtral-8x7b-instruct-v0.1', model_type='chat', client='ChatNVIDIA', endpoint=None, aliases=['ai-mixtral-8x7b-instruct', 'playground_mixtral_8x7b', 'mixtral_8x7b'], supports_tools=False, supports_structured_output=False, base_model=None),\n",
       " Model(id='nvidia/usdcode-llama-3.1-70b-instruct', model_type='chat', client='ChatNVIDIA', endpoint=None, aliases=None, supports_tools=False, supports_structured_output=False, base_model=None),\n",
       " Model(id='mistralai/mathstral-7b-v0.1', model_type='chat', client='ChatNVIDIA', endpoint=None, aliases=None, supports_tools=False, supports_structured_output=False, base_model=None),\n",
       " Model(id='google/gemma-2-27b-it', model_type='chat', client='ChatNVIDIA', endpoint=None, aliases=['ai-gemma-2-27b-it'], supports_tools=False, supports_structured_output=False, base_model=None),\n",
       " Model(id='meta/llama-3.1-8b-instruct', model_type='chat', client='ChatNVIDIA', endpoint=None, aliases=None, supports_tools=True, supports_structured_output=True, base_model=None),\n",
       " Model(id='microsoft/phi-3-mini-128k-instruct', model_type='chat', client='ChatNVIDIA', endpoint=None, aliases=['ai-phi-3-mini'], supports_tools=False, supports_structured_output=False, base_model=None),\n",
       " Model(id='ibm/granite-3.0-3b-a800m-instruct', model_type='chat', client='ChatNVIDIA', endpoint=None, aliases=None, supports_tools=False, supports_structured_output=False, base_model=None),\n",
       " Model(id='nvidia/nemotron-mini-4b-instruct', model_type='chat', client='ChatNVIDIA', endpoint=None, aliases=None, supports_tools=False, supports_structured_output=False, base_model=None),\n",
       " Model(id='adept/fuyu-8b', model_type='nv-vlm', client='ChatNVIDIA', endpoint='https://ai.api.nvidia.com/v1/vlm/adept/fuyu-8b', aliases=['ai-fuyu-8b', 'playground_fuyu_8b', 'fuyu_8b'], supports_tools=False, supports_structured_output=False, base_model=None),\n",
       " Model(id='mistralai/codestral-22b-instruct-v0.1', model_type='chat', client='ChatNVIDIA', endpoint=None, aliases=['ai-codestral-22b-instruct-v01'], supports_tools=False, supports_structured_output=True, base_model=None),\n",
       " Model(id='ibm/granite-3.0-8b-instruct', model_type='chat', client='ChatNVIDIA', endpoint=None, aliases=None, supports_tools=False, supports_structured_output=False, base_model=None),\n",
       " Model(id='microsoft/phi-3.5-moe-instruct', model_type='chat', client='ChatNVIDIA', endpoint=None, aliases=None, supports_tools=False, supports_structured_output=False, base_model=None),\n",
       " Model(id='google/paligemma', model_type='nv-vlm', client='ChatNVIDIA', endpoint='https://ai.api.nvidia.com/v1/vlm/google/paligemma', aliases=['ai-google-paligemma'], supports_tools=False, supports_structured_output=False, base_model=None),\n",
       " Model(id='baichuan-inc/baichuan2-13b-chat', model_type='chat', client='ChatNVIDIA', endpoint=None, aliases=None, supports_tools=False, supports_structured_output=False, base_model=None),\n",
       " Model(id='microsoft/kosmos-2', model_type='nv-vlm', client='ChatNVIDIA', endpoint='https://ai.api.nvidia.com/v1/vlm/microsoft/kosmos-2', aliases=['ai-microsoft-kosmos-2', 'playground_kosmos_2', 'kosmos_2'], supports_tools=False, supports_structured_output=False, base_model=None),\n",
       " Model(id='meta/llama-3.1-405b-instruct', model_type='chat', client='ChatNVIDIA', endpoint=None, aliases=None, supports_tools=True, supports_structured_output=True, base_model=None),\n",
       " Model(id='nvidia/neva-22b', model_type='nv-vlm', client='ChatNVIDIA', endpoint='https://ai.api.nvidia.com/v1/vlm/nvidia/neva-22b', aliases=['ai-neva-22b', 'playground_neva_22b', 'neva_22b'], supports_tools=False, supports_structured_output=False, base_model=None),\n",
       " Model(id='deepseek-ai/deepseek-coder-6.7b-instruct', model_type='chat', client='ChatNVIDIA', endpoint=None, aliases=['ai-deepseek-coder-6_7b-instruct'], supports_tools=False, supports_structured_output=False, base_model=None),\n",
       " Model(id='nvidia/llama-3.1-nemotron-70b-instruct', model_type='chat', client='ChatNVIDIA', endpoint=None, aliases=None, supports_tools=False, supports_structured_output=True, base_model=None),\n",
       " Model(id='qwen/qwen2.5-coder-7b-instruct', model_type='chat', client='ChatNVIDIA', endpoint=None, aliases=None, supports_tools=False, supports_structured_output=False, base_model=None),\n",
       " Model(id='institute-of-science-tokyo/llama-3.1-swallow-70b-instruct-v0.1', model_type='chat', client='ChatNVIDIA', endpoint=None, aliases=None, supports_tools=False, supports_structured_output=True, base_model=None),\n",
       " Model(id='meta/codellama-70b', model_type='chat', client='ChatNVIDIA', endpoint=None, aliases=['ai-codellama-70b', 'playground_llama2_code_70b', 'llama2_code_70b', 'playground_llama2_code_34b', 'llama2_code_34b', 'playground_llama2_code_13b', 'llama2_code_13b'], supports_tools=False, supports_structured_output=False, base_model=None),\n",
       " Model(id='microsoft/phi-3-medium-128k-instruct', model_type='chat', client='ChatNVIDIA', endpoint=None, aliases=['ai-phi-3-medium-128k-instruct'], supports_tools=False, supports_structured_output=False, base_model=None),\n",
       " Model(id='meta/llama3-70b-instruct', model_type='chat', client='ChatNVIDIA', endpoint=None, aliases=['ai-llama3-70b'], supports_tools=False, supports_structured_output=False, base_model=None),\n",
       " Model(id='thudm/chatglm3-6b', model_type='chat', client='ChatNVIDIA', endpoint=None, aliases=None, supports_tools=False, supports_structured_output=False, base_model=None),\n",
       " Model(id='writer/palmyra-med-70b', model_type='chat', client='ChatNVIDIA', endpoint=None, aliases=['ai-palmyra-med-70b'], supports_tools=False, supports_structured_output=False, base_model=None),\n",
       " Model(id='mediatek/breeze-7b-instruct', model_type='chat', client='ChatNVIDIA', endpoint=None, aliases=['ai-breeze-7b-instruct'], supports_tools=False, supports_structured_output=False, base_model=None),\n",
       " Model(id='abacusai/dracarys-llama-3.1-70b-instruct', model_type='chat', client='ChatNVIDIA', endpoint=None, aliases=None, supports_tools=False, supports_structured_output=False, base_model=None),\n",
       " Model(id='institute-of-science-tokyo/llama-3.1-swallow-8b-instruct-v0.1', model_type='chat', client='ChatNVIDIA', endpoint=None, aliases=None, supports_tools=False, supports_structured_output=True, base_model=None),\n",
       " Model(id='mistralai/mistral-large-2-instruct', model_type='chat', client='ChatNVIDIA', endpoint=None, aliases=None, supports_tools=True, supports_structured_output=True, base_model=None),\n",
       " Model(id='microsoft/phi-3-mini-4k-instruct', model_type='chat', client='ChatNVIDIA', endpoint=None, aliases=['ai-phi-3-mini-4k', 'playground_phi2', 'phi2'], supports_tools=False, supports_structured_output=False, base_model=None),\n",
       " Model(id='meta/llama-3.2-11b-vision-instruct', model_type='vlm', client='ChatNVIDIA', endpoint='https://ai.api.nvidia.com/v1/gr/meta/llama-3.2-11b-vision-instruct/chat/completions', aliases=None, supports_tools=False, supports_structured_output=False, base_model=None),\n",
       " Model(id='rakuten/rakutenai-7b-chat', model_type='chat', client='ChatNVIDIA', endpoint=None, aliases=None, supports_tools=False, supports_structured_output=False, base_model=None),\n",
       " Model(id='seallms/seallm-7b-v2.5', model_type='chat', client='ChatNVIDIA', endpoint=None, aliases=['ai-seallm-7b'], supports_tools=False, supports_structured_output=False, base_model=None),\n",
       " Model(id='google/gemma-2b', model_type='chat', client='ChatNVIDIA', endpoint=None, aliases=['ai-gemma-2b', 'playground_gemma_2b', 'gemma_2b'], supports_tools=False, supports_structured_output=False, base_model=None),\n",
       " Model(id='tokyotech-llm/llama-3-swallow-70b-instruct-v0.1', model_type='chat', client='ChatNVIDIA', endpoint=None, aliases=None, supports_tools=False, supports_structured_output=False, base_model=None),\n",
       " Model(id='qwen/qwen2-7b-instruct', model_type='chat', client='ChatNVIDIA', endpoint=None, aliases=None, supports_tools=False, supports_structured_output=False, base_model=None),\n",
       " Model(id='snowflake/arctic', model_type='chat', client='ChatNVIDIA', endpoint=None, aliases=['ai-arctic'], supports_tools=False, supports_structured_output=False, base_model=None),\n",
       " Model(id='aisingapore/sea-lion-7b-instruct', model_type='chat', client='ChatNVIDIA', endpoint=None, aliases=['ai-sea-lion-7b-instruct'], supports_tools=False, supports_structured_output=False, base_model=None),\n",
       " Model(id='qwen/qwen2.5-coder-32b-instruct', model_type='chat', client='ChatNVIDIA', endpoint=None, aliases=None, supports_tools=False, supports_structured_output=False, base_model=None),\n",
       " Model(id='nv-mistralai/mistral-nemo-12b-instruct', model_type='chat', client='ChatNVIDIA', endpoint=None, aliases=None, supports_tools=True, supports_structured_output=True, base_model=None),\n",
       " Model(id='nvidia/llama-3.1-nemotron-51b-instruct', model_type='chat', client='ChatNVIDIA', endpoint=None, aliases=None, supports_tools=False, supports_structured_output=False, base_model=None),\n",
       " Model(id='microsoft/phi-3-medium-4k-instruct', model_type='chat', client='ChatNVIDIA', endpoint=None, aliases=['ai-phi-3-medium-4k-instruct'], supports_tools=False, supports_structured_output=False, base_model=None),\n",
       " Model(id='microsoft/phi-3-vision-128k-instruct', model_type='nv-vlm', client='ChatNVIDIA', endpoint='https://ai.api.nvidia.com/v1/vlm/microsoft/phi-3-vision-128k-instruct', aliases=['ai-phi-3-vision-128k-instruct'], supports_tools=False, supports_structured_output=False, base_model=None),\n",
       " Model(id='google/codegemma-7b', model_type='chat', client='ChatNVIDIA', endpoint=None, aliases=['ai-codegemma-7b'], supports_tools=False, supports_structured_output=False, base_model=None),\n",
       " Model(id='01-ai/yi-large', model_type='chat', client='ChatNVIDIA', endpoint=None, aliases=['ai-yi-large'], supports_tools=False, supports_structured_output=False, base_model=None),\n",
       " Model(id='nvidia/nemotron-4-340b-instruct', model_type='chat', client='ChatNVIDIA', endpoint=None, aliases=['qa-nemotron-4-340b-instruct'], supports_tools=False, supports_structured_output=False, base_model=None),\n",
       " Model(id='meta/llama-3.2-1b-instruct', model_type='chat', client='ChatNVIDIA', endpoint=None, aliases=None, supports_tools=False, supports_structured_output=True, base_model=None),\n",
       " Model(id='meta/llama3-8b-instruct', model_type='chat', client='ChatNVIDIA', endpoint=None, aliases=['ai-llama3-8b'], supports_tools=False, supports_structured_output=False, base_model=None),\n",
       " Model(id='nvidia/llama-3.1-nemotron-70b-reward', model_type='chat', client='ChatNVIDIA', endpoint=None, aliases=None, supports_tools=False, supports_structured_output=False, base_model=None),\n",
       " Model(id='mistralai/mistral-7b-instruct-v0.2', model_type='chat', client='ChatNVIDIA', endpoint=None, aliases=['ai-mistral-7b-instruct-v2', 'playground_mistral_7b', 'mistral_7b'], supports_tools=False, supports_structured_output=False, base_model=None),\n",
       " Model(id='google/recurrentgemma-2b', model_type='chat', client='ChatNVIDIA', endpoint=None, aliases=['ai-recurrentgemma-2b'], supports_tools=False, supports_structured_output=False, base_model=None)]"
      ]
     },
     "execution_count": 35,
     "metadata": {},
     "output_type": "execute_result"
    }
   ],
   "source": [
    "models"
   ]
  },
  {
   "cell_type": "code",
   "execution_count": 36,
   "metadata": {},
   "outputs": [],
   "source": [
    "memory = InMemorySaver()\n",
    "config = {'configurable':{'thread_id':'1'}}"
   ]
  },
  {
   "cell_type": "code",
   "execution_count": 37,
   "metadata": {},
   "outputs": [],
   "source": [
    "class State(MessagesState):\n",
    "    sql_result_gemini : List[str] = Field(description='Result of the sql query',default=[])\n",
    "    sql_result_deepseek : List[str] = Field(description=\"Result of the sql query\",default=[])\n",
    "    sql_result_llama : List[str] = Field(description=\"Result of the sql query\",default=[])\n",
    "    sql_result_nemotron : List[str] = Field(description=\"Result of the sql query\",default=[])"
   ]
  },
  {
   "cell_type": "code",
   "execution_count": 38,
   "metadata": {},
   "outputs": [
    {
     "name": "stderr",
     "output_type": "stream",
     "text": [
      "c:\\Users\\gokul\\anaconda3\\envs\\langgraphenv\\Lib\\site-packages\\langchain_nvidia_ai_endpoints\\_common.py:212: UserWarning: Found nvidia/llama-3.3-nemotron-super-49b-v1 in available_models, but type is unknown and inference may fail.\n",
      "  warnings.warn(\n"
     ]
    }
   ],
   "source": [
    "gemini_model = ChatGoogleGenerativeAI(model='gemini-2.0-flash',temperature=0,top_p=0.95)\n",
    "deepseek_model = ChatDeepSeek(model = 'deepseek-chat',temperature=0,top_p=0.95)\n",
    "llama_70b = ChatNVIDIA(model='meta/llama-3.3-70b-instruct',temperature=0,top_p=0.95)\n",
    "nemotron = ChatNVIDIA(model='nvidia/llama-3.3-nemotron-super-49b-v1',temperature=0,top_p=0.95)"
   ]
  },
  {
   "cell_type": "code",
   "execution_count": 39,
   "metadata": {},
   "outputs": [],
   "source": [
    "db_user = 'root'\n",
    "db_password = 'gokul'\n",
    "db_host = 'localhost'\n",
    "db_name = 'retail_sales_db'\n",
    "\n",
    "engine = create_engine(f\"mysql+pymysql://{db_user}:{db_password}@{db_host}/{db_name}\")\n",
    "\n",
    "db = SQLDatabase(engine=engine)"
   ]
  },
  {
   "cell_type": "code",
   "execution_count": 40,
   "metadata": {},
   "outputs": [],
   "source": [
    "toolkit = SQLDatabaseToolkit(db=db, llm=gemini_model)\n",
    "tools = toolkit.get_tools()"
   ]
  },
  {
   "cell_type": "code",
   "execution_count": 41,
   "metadata": {},
   "outputs": [],
   "source": [
    "def create_system_prompt():\n",
    "    tool_names = \"\"\n",
    "    tool_descriptions = \"\"\n",
    "    for tool in tools:\n",
    "        tool_names += f\"{tool.name}, \"\n",
    "        tool_descriptions += f\"{tool.description}, \"\n",
    "\n",
    "    sys_prompt = f\"\"\" You are a SQL Database manager, You can write sql queries and return results to the user,\n",
    "    These are the available tools for you {tool_names} and their descriptions are {tool_descriptions}\n",
    "    You can use these tools to get the information you need to answer the user's question.\n",
    "    Always return the query along with the result if you use QueryTool only in a string and not in a list/dictionary\n",
    "    These are the tables present in the database {db.get_table_names()}\"\"\"\n",
    "    \n",
    "    return sys_prompt"
   ]
  },
  {
   "cell_type": "code",
   "execution_count": 42,
   "metadata": {},
   "outputs": [
    {
     "name": "stderr",
     "output_type": "stream",
     "text": [
      "c:\\Users\\gokul\\anaconda3\\envs\\langgraphenv\\Lib\\site-packages\\langchain_nvidia_ai_endpoints\\chat_models.py:591: UserWarning: Model 'nvidia/llama-3.3-nemotron-super-49b-v1' is not known to support tools. Your tool binding may fail at inference time.\n",
      "  warnings.warn(\n"
     ]
    }
   ],
   "source": [
    "deepseek_agent = create_react_agent(\n",
    "    model=deepseek_model,\n",
    "    tools = tools,\n",
    "    prompt=create_system_prompt(),\n",
    ")\n",
    "\n",
    "gemini_agent = create_react_agent(\n",
    "    model=gemini_model,\n",
    "    tools = tools,\n",
    "    prompt = create_system_prompt(),\n",
    ")\n",
    "\n",
    "llama_agent = create_react_agent(\n",
    "    model=llama_70b,\n",
    "    tools = tools,\n",
    "    prompt = create_system_prompt(),\n",
    ")\n",
    "\n",
    "nemotron_agent = create_react_agent(\n",
    "    model=nemotron,\n",
    "    tools = tools,\n",
    "    prompt = create_system_prompt(),\n",
    ")"
   ]
  },
  {
   "cell_type": "code",
   "execution_count": 43,
   "metadata": {},
   "outputs": [],
   "source": [
    "# async def deepseek_sql(state:State):\n",
    "#     prompt = state['messages'][-1].content\n",
    "#     response = deepseek_agent.invoke({'messages':prompt})\n",
    "#     state['sql_result_deepseek'] += [response['messages'].content]\n",
    "#     return state"
   ]
  },
  {
   "cell_type": "code",
   "execution_count": 44,
   "metadata": {},
   "outputs": [],
   "source": [
    "async def deepseek_sql(state:State):\n",
    "    prompt = state['messages'][-1].content\n",
    "    response = deepseek_agent.invoke({'messages':prompt})\n",
    "    \n",
    "    if 'sql_result_deepseek' not in state:\n",
    "        state['sql_result_deepseek'] = []\n",
    "        \n",
    "    state['sql_result_deepseek'] += response['messages']\n",
    "\n",
    "    return state"
   ]
  },
  {
   "cell_type": "code",
   "execution_count": 45,
   "metadata": {},
   "outputs": [],
   "source": [
    "async def gemini_sql(state:State):\n",
    "    prompt = state['messages'][-1].content\n",
    "    response = gemini_agent.invoke({'messages':prompt})\n",
    "\n",
    "    if 'sql_result_gemini' not in state:\n",
    "        state['sql_result_gemini'] = []\n",
    "        \n",
    "    state['sql_result_gemini'] += response['messages']\n",
    "\n",
    "    return state"
   ]
  },
  {
   "cell_type": "code",
   "execution_count": 46,
   "metadata": {},
   "outputs": [],
   "source": [
    "async def llama_sql(state:State):\n",
    "    prompt = state['messages'][-1].content\n",
    "    response = llama_agent.invoke({'messages':prompt})\n",
    "\n",
    "    if 'sql_result_llama' not in state:\n",
    "        state['sql_result_llama'] = []\n",
    "        \n",
    "    state['sql_result_llama'] += response['messages']\n",
    "\n",
    "    return state"
   ]
  },
  {
   "cell_type": "code",
   "execution_count": 47,
   "metadata": {},
   "outputs": [],
   "source": [
    "async def nemotron_sql(state:State):\n",
    "    prompt = state['messages'][-1].content\n",
    "    response = nemotron_agent.invoke({'messages':prompt})\n",
    "\n",
    "    if 'sql_result_nemotron' not in state:\n",
    "        state['sql_result_nemotron'] = []\n",
    "        \n",
    "    state['sql_result_nemotron'] += response['messages']\n",
    "\n",
    "    return state"
   ]
  },
  {
   "cell_type": "code",
   "execution_count": 48,
   "metadata": {},
   "outputs": [],
   "source": [
    "def check_list_instance(response):\n",
    "    if isinstance(response,list):\n",
    "        combined_message = \"\\n\".join(response)\n",
    "        return combined_message\n",
    "    return response"
   ]
  },
  {
   "cell_type": "code",
   "execution_count": 49,
   "metadata": {},
   "outputs": [],
   "source": [
    "async def final_answers(state:State):\n",
    "    ans_from_gemini = state['sql_result_gemini'][-1].content\n",
    "    ans_from_deepseek = state['sql_result_deepseek'][-1].content\n",
    "    ans_from_llama = state['sql_result_llama'][-1].content\n",
    "    ans_from_nemotron = state['sql_result_nemotron'][-1].content\n",
    "\n",
    "    ans_from_gemini=check_list_instance(ans_from_gemini)\n",
    "    ans_from_deepseek=check_list_instance(ans_from_deepseek)\n",
    "    ans_from_llama=check_list_instance(ans_from_llama)\n",
    "    ans_from_nemotron=check_list_instance(ans_from_nemotron)\n",
    "    \n",
    "    state['messages']+= [AIMessage(content=ans_from_gemini)] + [AIMessage(content=ans_from_deepseek)] + [AIMessage(content=ans_from_llama)] + [AIMessage(content=ans_from_nemotron)]\n",
    "\n",
    "    return state\n",
    "    "
   ]
  },
  {
   "cell_type": "code",
   "execution_count": 50,
   "metadata": {},
   "outputs": [
    {
     "data": {
      "image/png": "[encoded data removed]",
      "text/plain": [
       "<langgraph.graph.state.CompiledStateGraph object at 0x000001CF3D92EF50>"
      ]
     },
     "execution_count": 50,
     "metadata": {},
     "output_type": "execute_result"
    }
   ],
   "source": [
    "graph_builder = StateGraph(State)\n",
    "\n",
    "graph_builder.add_node(\"deepseek\",deepseek_sql)\n",
    "graph_builder.add_node(\"gemini\",gemini_sql)\n",
    "graph_builder.add_node(\"llama\",llama_sql)\n",
    "graph_builder.add_node(\"nemotron\",nemotron_sql)\n",
    "graph_builder.add_node('final_ans_formatter',final_answers)\n",
    "\n",
    "\n",
    "graph_builder.add_edge(START,\"deepseek\")\n",
    "graph_builder.add_edge(START,\"gemini\")\n",
    "graph_builder.add_edge(START,\"llama\")\n",
    "graph_builder.add_edge(START,\"nemotron\")\n",
    "\n",
    "graph_builder.add_edge(\"deepseek\",\"final_ans_formatter\")\n",
    "graph_builder.add_edge(\"gemini\",\"final_ans_formatter\")\n",
    "graph_builder.add_edge(\"llama\",\"final_ans_formatter\") \n",
    "graph_builder.add_edge(\"nemotron\",\"final_ans_formatter\")\n",
    "graph_builder.add_edge(\"final_ans_formatter\",END)\n",
    "\n",
    "graph_builder.compile(checkpointer=memory)"
   ]
  },
  {
   "cell_type": "code",
   "execution_count": 51,
   "metadata": {},
   "outputs": [],
   "source": [
    "graph = graph_builder.compile()"
   ]
  },
  {
   "cell_type": "code",
   "execution_count": 52,
   "metadata": {},
   "outputs": [],
   "source": [
    "response = await graph.ainvoke({'messages':\"How many male and female from age 19 in the sales table\"},config=config)"
   ]
  },
  {
   "cell_type": "code",
   "execution_count": 53,
   "metadata": {},
   "outputs": [
    {
     "data": {
      "text/plain": [
       "{'messages': [HumanMessage(content='How many male and female from age 19 in the sales table', additional_kwargs={}, response_metadata={}, id='ef91529b-2887-41ac-b668-98b58e18e02c'),\n",
       "  AIMessage(content='\"\\n```sql\\nSELECT Gender, COUNT(*) FROM sales_tb WHERE Age = 19 GROUP BY Gender\\n```\\n\\n\\n{\\'Gender\\': \\'Male\\', \\'COUNT(*)\\': 1}\"', additional_kwargs={}, response_metadata={}, id='563f92f7-a2ff-434b-84bf-c3c265e4c008'),\n",
       "  AIMessage(content='There is 1 male customer aged 19 in the sales table, and no female customers of the same age.', additional_kwargs={}, response_metadata={}, id='cc0eded0-6c95-4a52-a941-f9b2b40075ad'),\n",
       "  AIMessage(content='There is 1 male and 0 female from age 19 in the sales table.', additional_kwargs={}, response_metadata={}, id='4e784cbc-8fcf-4468-a9df-9fb12358582b'),\n",
       "  AIMessage(content=\"**Query & Result**\\n\\n* **Query:** `SELECT gender, COUNT(*) as count FROM sales_tb WHERE age = 19 GROUP BY gender`\\n* **Result:** `[('Male', 1)]`\\n\\n**Interpretation & Response**\\n\\nBased on the query results, here's what we can infer about the number of males and females aged 19 in the `sales_tb` table:\\n\\n* **Male:** 1\\n* **Female:** 0 (Not present in the results, implying no females aged 19 were found in the query scope)\\n\\n**Response to Your Question**\\n\\n* **Male (Age 19):** 1\\n* **Female (Age 19):** 0 (No records found)\\n\\n**Next Steps (If Desired)**\\n\\n1. **Verify Schema (Unnecessary here but for completeness)**: Since we already know the table and fields used (`sales_tb`, `gender`, `age`), this step is skipped. However, if you ever need to verify the schema for `sales_tb` or explore other tables, you can request:\\n   ```\\n   sql_db_schema sales_tb\\n   ```\\n   (Though, as per your initial message, you've already listed the tables, and `sales_tb` is confirmed to exist.)\\n\\n2. **Investigate Further (Optional)**:\\n   - **All Ages by Gender**: If interested in the distribution across all ages:\\n     ```sql\\n     SELECT gender, age, COUNT(*) as count FROM sales_tb GROUP BY gender, age\\n     ```\\n   - **Female Count at Other Ages (to contextualize the 0 result)**:\\n     ```sql\\n     SELECT age, COUNT(*) as female_count FROM sales_tb WHERE gender = 'Female' GROUP BY age\\n     ```\\n\\n**How Would You Like to Proceed?**\\n\\nA) Run one of the suggested follow-up queries above (specify which)\\nB) Ask a new question\\nC) Clarify/Modify the current query (e.g., check for `NULL` ages, or a different age group)\\nD) Other (please specify)\", additional_kwargs={}, response_metadata={}, id='6a788f01-72a5-4bfe-b1ab-01251ba5e222')],\n",
       " 'sql_result_gemini': [HumanMessage(content='How many male and female from age 19 in the sales table', additional_kwargs={}, response_metadata={}, id='62e67d0e-9b56-4690-8a5d-bbc1c7627788'),\n",
       "  AIMessage(content='I need to know the table schema first to understand the table structure.', additional_kwargs={'function_call': {'name': 'sql_db_schema', 'arguments': '{\"table_names\": \"sales_tb\"}'}}, response_metadata={'prompt_feedback': {'block_reason': 0, 'safety_ratings': []}, 'finish_reason': 'STOP', 'safety_ratings': []}, id='run-64717e59-52de-402e-8485-675956c51c0f-0', tool_calls=[{'name': 'sql_db_schema', 'args': {'table_names': 'sales_tb'}, 'id': 'aeb6ec44-1509-4b20-99b5-2d0af710ef19', 'type': 'tool_call'}], usage_metadata={'input_tokens': 595, 'output_tokens': 26, 'total_tokens': 621, 'input_token_details': {'cache_read': 0}}),\n",
       "  ToolMessage(content='\\nCREATE TABLE sales_tb (\\n\\t`TransactionID` INTEGER, \\n\\t`Date` DATE, \\n\\t`CustomerID` VARCHAR(10), \\n\\t`Gender` VARCHAR(10), \\n\\t`Age` INTEGER, \\n\\t`ProductCategory` VARCHAR(50), \\n\\t`Quantity` INTEGER, \\n\\t`PriceperUnit` DECIMAL(10, 2), \\n\\t`TotalAmount` DECIMAL(10, 2)\\n)ENGINE=InnoDB COLLATE utf8mb4_0900_ai_ci DEFAULT CHARSET=utf8mb4\\n\\n/*\\n3 rows from sales_tb table:\\nTransactionID\\tDate\\tCustomerID\\tGender\\tAge\\tProductCategory\\tQuantity\\tPriceperUnit\\tTotalAmount\\n1\\t2023-11-24\\tCUST001\\tMale\\t34\\tBeauty\\t3\\t50.00\\t150.00\\n2\\t2023-02-27\\tCUST002\\tFemale\\t26\\tClothing\\t2\\t500.00\\t1000.00\\n3\\t2023-01-13\\tCUST003\\tMale\\t50\\tElectronics\\t1\\t30.00\\t30.00\\n*/', name='sql_db_schema', id='7f01c775-d54a-4918-b335-0882030fdecb', tool_call_id='aeb6ec44-1509-4b20-99b5-2d0af710ef19'),\n",
       "  AIMessage(content='', additional_kwargs={'function_call': {'name': 'sql_db_query', 'arguments': '{\"query\": \"SELECT Gender, COUNT(*) FROM sales_tb WHERE Age = 19 GROUP BY Gender\"}'}}, response_metadata={'prompt_feedback': {'block_reason': 0, 'safety_ratings': []}, 'finish_reason': 'STOP', 'safety_ratings': []}, id='run-35ca8535-1ec0-42b3-88fd-b1232da5deb6-0', tool_calls=[{'name': 'sql_db_query', 'args': {'query': 'SELECT Gender, COUNT(*) FROM sales_tb WHERE Age = 19 GROUP BY Gender'}, 'id': 'eaba80d0-1a49-4b38-bcaf-295a47fae40e', 'type': 'tool_call'}], usage_metadata={'input_tokens': 902, 'output_tokens': 24, 'total_tokens': 926, 'input_token_details': {'cache_read': 0}}),\n",
       "  ToolMessage(content=\"[('Male', 1)]\", name='sql_db_query', id='b26cafb9-f4e2-4018-8693-0cf21bd39e5c', tool_call_id='eaba80d0-1a49-4b38-bcaf-295a47fae40e'),\n",
       "  AIMessage(content=['\"', '```sql\\nSELECT Gender, COUNT(*) FROM sales_tb WHERE Age = 19 GROUP BY Gender\\n```', '\\n\\n{\\'Gender\\': \\'Male\\', \\'COUNT(*)\\': 1}\"'], additional_kwargs={}, response_metadata={'prompt_feedback': {'block_reason': 0, 'safety_ratings': []}, 'finish_reason': 'STOP', 'safety_ratings': []}, id='run-6b645b2e-50b1-4c23-921a-a28683fe4310-0', usage_metadata={'input_tokens': 939, 'output_tokens': 38, 'total_tokens': 977, 'input_token_details': {'cache_read': 0}})],\n",
       " 'sql_result_deepseek': [HumanMessage(content='How many male and female from age 19 in the sales table', additional_kwargs={}, response_metadata={}, id='a9eaca4b-a9e3-4820-aa64-e830fcdc8f17'),\n",
       "  AIMessage(content='', additional_kwargs={'tool_calls': [{'id': 'call_0_35cfebd8-e133-452b-8455-bbca76645082', 'function': {'arguments': '{}', 'name': 'sql_db_list_tables'}, 'type': 'function', 'index': 0}], 'refusal': None}, response_metadata={'token_usage': {'completion_tokens': 17, 'prompt_tokens': 879, 'total_tokens': 896, 'completion_tokens_details': None, 'prompt_tokens_details': {'audio_tokens': None, 'cached_tokens': 256}, 'prompt_cache_hit_tokens': 256, 'prompt_cache_miss_tokens': 623}, 'model_name': 'deepseek-chat', 'system_fingerprint': 'fp_3d5141a69a_prod0225', 'id': '4cb0bcac-cd6e-4490-8788-283d97216bd9', 'finish_reason': 'tool_calls', 'logprobs': None}, id='run-5753aa22-f3fc-44dd-88ba-7394d09d09f6-0', tool_calls=[{'name': 'sql_db_list_tables', 'args': {}, 'id': 'call_0_35cfebd8-e133-452b-8455-bbca76645082', 'type': 'tool_call'}], usage_metadata={'input_tokens': 879, 'output_tokens': 17, 'total_tokens': 896, 'input_token_details': {'cache_read': 256}, 'output_token_details': {}}),\n",
       "  ToolMessage(content='sales_tb, user_details', name='sql_db_list_tables', id='ec2cb345-e34e-4277-a031-11196b88bdbe', tool_call_id='call_0_35cfebd8-e133-452b-8455-bbca76645082'),\n",
       "  AIMessage(content='', additional_kwargs={'tool_calls': [{'id': 'call_0_ad194ac4-ff2e-484b-a80d-67ac27eaadc2', 'function': {'arguments': '{\"table_names\":\"user_details\"}', 'name': 'sql_db_schema'}, 'type': 'function', 'index': 0}], 'refusal': None}, response_metadata={'token_usage': {'completion_tokens': 22, 'prompt_tokens': 907, 'total_tokens': 929, 'completion_tokens_details': None, 'prompt_tokens_details': {'audio_tokens': None, 'cached_tokens': 832}, 'prompt_cache_hit_tokens': 832, 'prompt_cache_miss_tokens': 75}, 'model_name': 'deepseek-chat', 'system_fingerprint': 'fp_3d5141a69a_prod0225', 'id': '366071bf-e9ff-492a-b962-1120c0f5c87b', 'finish_reason': 'tool_calls', 'logprobs': None}, id='run-603bdfdd-ac62-4ace-9e8d-c5568b584c27-0', tool_calls=[{'name': 'sql_db_schema', 'args': {'table_names': 'user_details'}, 'id': 'call_0_ad194ac4-ff2e-484b-a80d-67ac27eaadc2', 'type': 'tool_call'}], usage_metadata={'input_tokens': 907, 'output_tokens': 22, 'total_tokens': 929, 'input_token_details': {'cache_read': 832}, 'output_token_details': {}}),\n",
       "  ToolMessage(content='\\nCREATE TABLE user_details (\\n\\tuser_id INTEGER NOT NULL AUTO_INCREMENT, \\n\\tusername VARCHAR(255), \\n\\tfirst_name VARCHAR(50), \\n\\tlast_name VARCHAR(50), \\n\\tgender VARCHAR(10), \\n\\tpassword VARCHAR(50), \\n\\tstatus TINYINT, \\n\\tPRIMARY KEY (user_id)\\n)ENGINE=MyISAM DEFAULT CHARSET=latin1\\n\\n/*\\n3 rows from user_details table:\\nuser_id\\tusername\\tfirst_name\\tlast_name\\tgender\\tpassword\\tstatus\\n1\\trogers63\\tdavid\\tjohn\\tFemale\\te6a33eee180b07e563d74fee8c2c66b8\\t1\\n2\\tmike28\\trogers\\tpaul\\tMale\\t2e7dc6b8a1598f4f75c3eaa47958ee2f\\t1\\n3\\trivera92\\tdavid\\tjohn\\tMale\\t1c3a8e03f448d211904161a6f5849b68\\t1\\n*/', name='sql_db_schema', id='a7113939-9c7c-4a3f-8ba2-cd61cf11f32a', tool_call_id='call_0_ad194ac4-ff2e-484b-a80d-67ac27eaadc2'),\n",
       "  AIMessage(content='', additional_kwargs={'tool_calls': [{'id': 'call_0_ec62f964-b2ff-43a5-8bc4-babfcf33e335', 'function': {'arguments': '{\"table_names\":\"sales_tb\"}', 'name': 'sql_db_schema'}, 'type': 'function', 'index': 0}], 'refusal': None}, response_metadata={'token_usage': {'completion_tokens': 23, 'prompt_tokens': 1152, 'total_tokens': 1175, 'completion_tokens_details': None, 'prompt_tokens_details': {'audio_tokens': None, 'cached_tokens': 0}, 'prompt_cache_hit_tokens': 0, 'prompt_cache_miss_tokens': 1152}, 'model_name': 'deepseek-chat', 'system_fingerprint': 'fp_3d5141a69a_prod0225', 'id': 'da6fdc94-cfc4-4916-b1ea-e9080f474cc4', 'finish_reason': 'tool_calls', 'logprobs': None}, id='run-9e7c6f32-914c-4ec5-a7cb-38125789d090-0', tool_calls=[{'name': 'sql_db_schema', 'args': {'table_names': 'sales_tb'}, 'id': 'call_0_ec62f964-b2ff-43a5-8bc4-babfcf33e335', 'type': 'tool_call'}], usage_metadata={'input_tokens': 1152, 'output_tokens': 23, 'total_tokens': 1175, 'input_token_details': {'cache_read': 0}, 'output_token_details': {}}),\n",
       "  ToolMessage(content='\\nCREATE TABLE sales_tb (\\n\\t`TransactionID` INTEGER, \\n\\t`Date` DATE, \\n\\t`CustomerID` VARCHAR(10), \\n\\t`Gender` VARCHAR(10), \\n\\t`Age` INTEGER, \\n\\t`ProductCategory` VARCHAR(50), \\n\\t`Quantity` INTEGER, \\n\\t`PriceperUnit` DECIMAL(10, 2), \\n\\t`TotalAmount` DECIMAL(10, 2)\\n)ENGINE=InnoDB COLLATE utf8mb4_0900_ai_ci DEFAULT CHARSET=utf8mb4\\n\\n/*\\n3 rows from sales_tb table:\\nTransactionID\\tDate\\tCustomerID\\tGender\\tAge\\tProductCategory\\tQuantity\\tPriceperUnit\\tTotalAmount\\n1\\t2023-11-24\\tCUST001\\tMale\\t34\\tBeauty\\t3\\t50.00\\t150.00\\n2\\t2023-02-27\\tCUST002\\tFemale\\t26\\tClothing\\t2\\t500.00\\t1000.00\\n3\\t2023-01-13\\tCUST003\\tMale\\t50\\tElectronics\\t1\\t30.00\\t30.00\\n*/', name='sql_db_schema', id='6991d082-dd78-4f4c-bd0e-4d31c7b56417', tool_call_id='call_0_ec62f964-b2ff-43a5-8bc4-babfcf33e335'),\n",
       "  AIMessage(content='', additional_kwargs={'tool_calls': [{'id': 'call_0_32ab98d4-e624-4800-bdf0-592cdd94c528', 'function': {'arguments': '{\"query\":\"SELECT Gender, COUNT(*) AS Count FROM sales_tb WHERE Age = 19 GROUP BY Gender;\"}', 'name': 'sql_db_query'}, 'type': 'function', 'index': 0}], 'refusal': None}, response_metadata={'token_usage': {'completion_tokens': 38, 'prompt_tokens': 1425, 'total_tokens': 1463, 'completion_tokens_details': None, 'prompt_tokens_details': {'audio_tokens': None, 'cached_tokens': 1152}, 'prompt_cache_hit_tokens': 1152, 'prompt_cache_miss_tokens': 273}, 'model_name': 'deepseek-chat', 'system_fingerprint': 'fp_3d5141a69a_prod0225', 'id': '5bd90d8f-7ca6-4dc1-b48b-990dae3436e6', 'finish_reason': 'tool_calls', 'logprobs': None}, id='run-181eb4f8-4bd6-4bfd-ae91-ca2f37d9faeb-0', tool_calls=[{'name': 'sql_db_query', 'args': {'query': 'SELECT Gender, COUNT(*) AS Count FROM sales_tb WHERE Age = 19 GROUP BY Gender;'}, 'id': 'call_0_32ab98d4-e624-4800-bdf0-592cdd94c528', 'type': 'tool_call'}], usage_metadata={'input_tokens': 1425, 'output_tokens': 38, 'total_tokens': 1463, 'input_token_details': {'cache_read': 1152}, 'output_token_details': {}}),\n",
       "  ToolMessage(content=\"[('Male', 1)]\", name='sql_db_query', id='d057ef6c-1cdf-4e17-9512-dc37c27c4b9e', tool_call_id='call_0_32ab98d4-e624-4800-bdf0-592cdd94c528'),\n",
       "  AIMessage(content='There is 1 male customer aged 19 in the sales table, and no female customers of the same age.', additional_kwargs={'refusal': None}, response_metadata={'token_usage': {'completion_tokens': 23, 'prompt_tokens': 1476, 'total_tokens': 1499, 'completion_tokens_details': None, 'prompt_tokens_details': {'audio_tokens': None, 'cached_tokens': 1408}, 'prompt_cache_hit_tokens': 1408, 'prompt_cache_miss_tokens': 68}, 'model_name': 'deepseek-chat', 'system_fingerprint': 'fp_3d5141a69a_prod0225', 'id': 'c0bf4d79-3384-4101-b027-0a3ddc5f95d6', 'finish_reason': 'stop', 'logprobs': None}, id='run-acb5bd74-70fb-4608-8b87-10faafd899b2-0', usage_metadata={'input_tokens': 1476, 'output_tokens': 23, 'total_tokens': 1499, 'input_token_details': {'cache_read': 1408}, 'output_token_details': {}})],\n",
       " 'sql_result_llama': [HumanMessage(content='How many male and female from age 19 in the sales table', additional_kwargs={}, response_metadata={}, id='ef7d32b4-167a-4a1a-8858-83b5cb3c4a54'),\n",
       "  AIMessage(content='', additional_kwargs={'tool_calls': [{'id': 'chatcmpl-tool-6a0e29890859496994d10da44f8f8197', 'type': 'function', 'function': {'name': 'sql_db_query_checker', 'arguments': '{\"query\": \"SELECT COUNT(gender) FROM sales_tb WHERE age = 19 AND gender = \\'male\\'\"}'}}]}, response_metadata={'role': 'assistant', 'content': None, 'tool_calls': [{'id': 'chatcmpl-tool-6a0e29890859496994d10da44f8f8197', 'type': 'function', 'function': {'name': 'sql_db_query_checker', 'arguments': '{\"query\": \"SELECT COUNT(gender) FROM sales_tb WHERE age = 19 AND gender = \\'male\\'\"}'}}], 'token_usage': {'prompt_tokens': 1113, 'total_tokens': 1144, 'completion_tokens': 31}, 'finish_reason': 'tool_calls', 'model_name': 'meta/llama-3.3-70b-instruct'}, id='run-78465ca7-b94f-4331-a9b8-26c71c92cf22-0', tool_calls=[{'name': 'sql_db_query_checker', 'args': {'query': \"SELECT COUNT(gender) FROM sales_tb WHERE age = 19 AND gender = 'male'\"}, 'id': 'chatcmpl-tool-6a0e29890859496994d10da44f8f8197', 'type': 'tool_call'}], usage_metadata={'input_tokens': 1113, 'output_tokens': 31, 'total_tokens': 1144}, role='assistant'),\n",
       "  ToolMessage(content=\"```sql\\nSELECT COUNT(gender) FROM sales_tb WHERE age = 19 AND gender = 'male'\\n```\", name='sql_db_query_checker', id='c49f23fd-2535-4caf-8e83-81d4f80464b0', tool_call_id='chatcmpl-tool-6a0e29890859496994d10da44f8f8197'),\n",
       "  AIMessage(content='', additional_kwargs={'tool_calls': [{'id': 'chatcmpl-tool-dca5f32a38d3457495bb3409cf939adc', 'type': 'function', 'function': {'name': 'sql_db_query', 'arguments': '{\"query\": \"SELECT COUNT(gender) FROM sales_tb WHERE age = 19 AND gender = \\'male\\'\"}'}}]}, response_metadata={'role': 'assistant', 'content': None, 'tool_calls': [{'id': 'chatcmpl-tool-dca5f32a38d3457495bb3409cf939adc', 'type': 'function', 'function': {'name': 'sql_db_query', 'arguments': '{\"query\": \"SELECT COUNT(gender) FROM sales_tb WHERE age = 19 AND gender = \\'male\\'\"}'}}], 'token_usage': {'prompt_tokens': 1187, 'total_tokens': 1217, 'completion_tokens': 30}, 'finish_reason': 'tool_calls', 'model_name': 'meta/llama-3.3-70b-instruct'}, id='run-4710e397-c8cb-444b-b4f8-e6ae88309568-0', tool_calls=[{'name': 'sql_db_query', 'args': {'query': \"SELECT COUNT(gender) FROM sales_tb WHERE age = 19 AND gender = 'male'\"}, 'id': 'chatcmpl-tool-dca5f32a38d3457495bb3409cf939adc', 'type': 'tool_call'}], usage_metadata={'input_tokens': 1187, 'output_tokens': 30, 'total_tokens': 1217}, role='assistant'),\n",
       "  ToolMessage(content='[(1,)]', name='sql_db_query', id='ca8135a3-38a3-49e8-ac6d-832ef4db724d', tool_call_id='chatcmpl-tool-dca5f32a38d3457495bb3409cf939adc'),\n",
       "  AIMessage(content='', additional_kwargs={'tool_calls': [{'id': 'chatcmpl-tool-0337c15c5efa43c0a2d6effda47bec21', 'type': 'function', 'function': {'name': 'sql_db_query_checker', 'arguments': '{\"query\": \"SELECT COUNT(gender) FROM sales_tb WHERE age = 19 AND gender = \\'female\\'\"}'}}]}, response_metadata={'role': 'assistant', 'content': None, 'tool_calls': [{'id': 'chatcmpl-tool-0337c15c5efa43c0a2d6effda47bec21', 'type': 'function', 'function': {'name': 'sql_db_query_checker', 'arguments': '{\"query\": \"SELECT COUNT(gender) FROM sales_tb WHERE age = 19 AND gender = \\'female\\'\"}'}}], 'token_usage': {'prompt_tokens': 1239, 'total_tokens': 1270, 'completion_tokens': 31}, 'finish_reason': 'tool_calls', 'model_name': 'meta/llama-3.3-70b-instruct'}, id='run-9558d85f-048c-4c25-84ca-ea5a664eb69d-0', tool_calls=[{'name': 'sql_db_query_checker', 'args': {'query': \"SELECT COUNT(gender) FROM sales_tb WHERE age = 19 AND gender = 'female'\"}, 'id': 'chatcmpl-tool-0337c15c5efa43c0a2d6effda47bec21', 'type': 'tool_call'}], usage_metadata={'input_tokens': 1239, 'output_tokens': 31, 'total_tokens': 1270}, role='assistant'),\n",
       "  ToolMessage(content=\"```sql\\nSELECT COUNT(gender) FROM sales_tb WHERE age = 19 AND gender = 'female'\\n```\", name='sql_db_query_checker', id='a1654e06-84be-469e-81a5-200676652024', tool_call_id='chatcmpl-tool-0337c15c5efa43c0a2d6effda47bec21'),\n",
       "  AIMessage(content='', additional_kwargs={'tool_calls': [{'id': 'chatcmpl-tool-55c664aa9a204a099eaddd235d6aae69', 'type': 'function', 'function': {'name': 'sql_db_query', 'arguments': '{\"query\": \"SELECT COUNT(gender) FROM sales_tb WHERE age = 19 AND gender = \\'female\\'\"}'}}]}, response_metadata={'role': 'assistant', 'content': None, 'tool_calls': [{'id': 'chatcmpl-tool-55c664aa9a204a099eaddd235d6aae69', 'type': 'function', 'function': {'name': 'sql_db_query', 'arguments': '{\"query\": \"SELECT COUNT(gender) FROM sales_tb WHERE age = 19 AND gender = \\'female\\'\"}'}}], 'token_usage': {'prompt_tokens': 1313, 'total_tokens': 1343, 'completion_tokens': 30}, 'finish_reason': 'tool_calls', 'model_name': 'meta/llama-3.3-70b-instruct'}, id='run-1197dac1-c06c-464e-acc4-b9cff1bcc114-0', tool_calls=[{'name': 'sql_db_query', 'args': {'query': \"SELECT COUNT(gender) FROM sales_tb WHERE age = 19 AND gender = 'female'\"}, 'id': 'chatcmpl-tool-55c664aa9a204a099eaddd235d6aae69', 'type': 'tool_call'}], usage_metadata={'input_tokens': 1313, 'output_tokens': 30, 'total_tokens': 1343}, role='assistant'),\n",
       "  ToolMessage(content='[(0,)]', name='sql_db_query', id='362c9c2f-430b-4e93-81b5-d73359db63c1', tool_call_id='chatcmpl-tool-55c664aa9a204a099eaddd235d6aae69'),\n",
       "  AIMessage(content='There is 1 male and 0 female from age 19 in the sales table.', additional_kwargs={}, response_metadata={'role': 'assistant', 'content': 'There is 1 male and 0 female from age 19 in the sales table.', 'token_usage': {'prompt_tokens': 1365, 'total_tokens': 1383, 'completion_tokens': 18}, 'finish_reason': 'stop', 'model_name': 'meta/llama-3.3-70b-instruct'}, id='run-0b9114b2-2017-4f17-9e6f-3d0f4d16a6ca-0', usage_metadata={'input_tokens': 1365, 'output_tokens': 18, 'total_tokens': 1383}, role='assistant')],\n",
       " 'sql_result_nemotron': [HumanMessage(content='How many male and female from age 19 in the sales table', additional_kwargs={}, response_metadata={}, id='b0c8197a-1f50-403f-996c-ba9371f53414'),\n",
       "  AIMessage(content='', additional_kwargs={'tool_calls': [{'id': 'FJSXZsaaU', 'type': 'function', 'function': {'name': 'sql_db_query_checker', 'arguments': '{\"query\": \"SELECT gender, COUNT(*) as count FROM sales_tb WHERE age = 19 GROUP BY gender\"}'}}, {'id': 's4MraDE31', 'type': 'function', 'function': {'name': 'sql_db_query', 'arguments': '{\"query\": \"SELECT gender, COUNT(*) as count FROM sales_tb WHERE age = 19 GROUP BY gender\"}'}}]}, response_metadata={'role': 'assistant', 'content': None, 'tool_calls': [{'id': 'FJSXZsaaU', 'type': 'function', 'function': {'name': 'sql_db_query_checker', 'arguments': '{\"query\": \"SELECT gender, COUNT(*) as count FROM sales_tb WHERE age = 19 GROUP BY gender\"}'}}, {'id': 's4MraDE31', 'type': 'function', 'function': {'name': 'sql_db_query', 'arguments': '{\"query\": \"SELECT gender, COUNT(*) as count FROM sales_tb WHERE age = 19 GROUP BY gender\"}'}}], 'token_usage': {'prompt_tokens': 979, 'total_tokens': 1055, 'completion_tokens': 76}, 'finish_reason': 'tool_calls', 'model_name': 'nvidia/llama-3.3-nemotron-super-49b-v1'}, id='run-ddcace83-ca8d-4135-9fca-cc1da3a60263-0', tool_calls=[{'name': 'sql_db_query_checker', 'args': {'query': 'SELECT gender, COUNT(*) as count FROM sales_tb WHERE age = 19 GROUP BY gender'}, 'id': 'FJSXZsaaU', 'type': 'tool_call'}, {'name': 'sql_db_query', 'args': {'query': 'SELECT gender, COUNT(*) as count FROM sales_tb WHERE age = 19 GROUP BY gender'}, 'id': 's4MraDE31', 'type': 'tool_call'}], usage_metadata={'input_tokens': 979, 'output_tokens': 76, 'total_tokens': 1055}, role='assistant'),\n",
       "  ToolMessage(content='```sql\\nSELECT gender, COUNT(*) as count FROM sales_tb WHERE age = 19 GROUP BY gender\\n```', name='sql_db_query_checker', id='483d2b43-fb61-402a-9a95-8e2c126339f0', tool_call_id='FJSXZsaaU'),\n",
       "  ToolMessage(content=\"[('Male', 1)]\", name='sql_db_query', id='fd34e3bc-8eb7-4bcf-8127-836a6699021e', tool_call_id='s4MraDE31'),\n",
       "  AIMessage(content=\"**Query & Result**\\n\\n* **Query:** `SELECT gender, COUNT(*) as count FROM sales_tb WHERE age = 19 GROUP BY gender`\\n* **Result:** `[('Male', 1)]`\\n\\n**Interpretation & Response**\\n\\nBased on the query results, here's what we can infer about the number of males and females aged 19 in the `sales_tb` table:\\n\\n* **Male:** 1\\n* **Female:** 0 (Not present in the results, implying no females aged 19 were found in the query scope)\\n\\n**Response to Your Question**\\n\\n* **Male (Age 19):** 1\\n* **Female (Age 19):** 0 (No records found)\\n\\n**Next Steps (If Desired)**\\n\\n1. **Verify Schema (Unnecessary here but for completeness)**: Since we already know the table and fields used (`sales_tb`, `gender`, `age`), this step is skipped. However, if you ever need to verify the schema for `sales_tb` or explore other tables, you can request:\\n   ```\\n   sql_db_schema sales_tb\\n   ```\\n   (Though, as per your initial message, you've already listed the tables, and `sales_tb` is confirmed to exist.)\\n\\n2. **Investigate Further (Optional)**:\\n   - **All Ages by Gender**: If interested in the distribution across all ages:\\n     ```sql\\n     SELECT gender, age, COUNT(*) as count FROM sales_tb GROUP BY gender, age\\n     ```\\n   - **Female Count at Other Ages (to contextualize the 0 result)**:\\n     ```sql\\n     SELECT age, COUNT(*) as female_count FROM sales_tb WHERE gender = 'Female' GROUP BY age\\n     ```\\n\\n**How Would You Like to Proceed?**\\n\\nA) Run one of the suggested follow-up queries above (specify which)\\nB) Ask a new question\\nC) Clarify/Modify the current query (e.g., check for `NULL` ages, or a different age group)\\nD) Other (please specify)\", additional_kwargs={}, response_metadata={'role': 'assistant', 'content': \"**Query & Result**\\n\\n* **Query:** `SELECT gender, COUNT(*) as count FROM sales_tb WHERE age = 19 GROUP BY gender`\\n* **Result:** `[('Male', 1)]`\\n\\n**Interpretation & Response**\\n\\nBased on the query results, here's what we can infer about the number of males and females aged 19 in the `sales_tb` table:\\n\\n* **Male:** 1\\n* **Female:** 0 (Not present in the results, implying no females aged 19 were found in the query scope)\\n\\n**Response to Your Question**\\n\\n* **Male (Age 19):** 1\\n* **Female (Age 19):** 0 (No records found)\\n\\n**Next Steps (If Desired)**\\n\\n1. **Verify Schema (Unnecessary here but for completeness)**: Since we already know the table and fields used (`sales_tb`, `gender`, `age`), this step is skipped. However, if you ever need to verify the schema for `sales_tb` or explore other tables, you can request:\\n   ```\\n   sql_db_schema sales_tb\\n   ```\\n   (Though, as per your initial message, you've already listed the tables, and `sales_tb` is confirmed to exist.)\\n\\n2. **Investigate Further (Optional)**:\\n   - **All Ages by Gender**: If interested in the distribution across all ages:\\n     ```sql\\n     SELECT gender, age, COUNT(*) as count FROM sales_tb GROUP BY gender, age\\n     ```\\n   - **Female Count at Other Ages (to contextualize the 0 result)**:\\n     ```sql\\n     SELECT age, COUNT(*) as female_count FROM sales_tb WHERE gender = 'Female' GROUP BY age\\n     ```\\n\\n**How Would You Like to Proceed?**\\n\\nA) Run one of the suggested follow-up queries above (specify which)\\nB) Ask a new question\\nC) Clarify/Modify the current query (e.g., check for `NULL` ages, or a different age group)\\nD) Other (please specify)\", 'token_usage': {'prompt_tokens': 478, 'total_tokens': 896, 'completion_tokens': 418}, 'finish_reason': 'stop', 'model_name': 'nvidia/llama-3.3-nemotron-super-49b-v1'}, id='run-528c8cbd-496f-4fa8-ace3-bd6b3d2be7c1-0', usage_metadata={'input_tokens': 478, 'output_tokens': 418, 'total_tokens': 896}, role='assistant')]}"
      ]
     },
     "execution_count": 53,
     "metadata": {},
     "output_type": "execute_result"
    }
   ],
   "source": [
    "response"
   ]
  },
  {
   "cell_type": "code",
   "execution_count": 54,
   "metadata": {},
   "outputs": [
    {
     "name": "stdout",
     "output_type": "stream",
     "text": [
      "================================\u001b[1m Human Message \u001b[0m=================================\n",
      "\n",
      "How many male and female from age 19 in the sales table\n",
      "==================================\u001b[1m Ai Message \u001b[0m==================================\n",
      "\n",
      "\"\n",
      "```sql\n",
      "SELECT Gender, COUNT(*) FROM sales_tb WHERE Age = 19 GROUP BY Gender\n",
      "```\n",
      "\n",
      "\n",
      "{'Gender': 'Male', 'COUNT(*)': 1}\"\n",
      "==================================\u001b[1m Ai Message \u001b[0m==================================\n",
      "\n",
      "There is 1 male customer aged 19 in the sales table, and no female customers of the same age.\n",
      "==================================\u001b[1m Ai Message \u001b[0m==================================\n",
      "\n",
      "There is 1 male and 0 female from age 19 in the sales table.\n",
      "==================================\u001b[1m Ai Message \u001b[0m==================================\n",
      "\n",
      "**Query & Result**\n",
      "\n",
      "* **Query:** `SELECT gender, COUNT(*) as count FROM sales_tb WHERE age = 19 GROUP BY gender`\n",
      "* **Result:** `[('Male', 1)]`\n",
      "\n",
      "**Interpretation & Response**\n",
      "\n",
      "Based on the query results, here's what we can infer about the number of males and females aged 19 in the `sales_tb` table:\n",
      "\n",
      "* **Male:** 1\n",
      "* **Female:** 0 (Not present in the results, implying no females aged 19 were found in the query scope)\n",
      "\n",
      "**Response to Your Question**\n",
      "\n",
      "* **Male (Age 19):** 1\n",
      "* **Female (Age 19):** 0 (No records found)\n",
      "\n",
      "**Next Steps (If Desired)**\n",
      "\n",
      "1. **Verify Schema (Unnecessary here but for completeness)**: Since we already know the table and fields used (`sales_tb`, `gender`, `age`), this step is skipped. However, if you ever need to verify the schema for `sales_tb` or explore other tables, you can request:\n",
      "   ```\n",
      "   sql_db_schema sales_tb\n",
      "   ```\n",
      "   (Though, as per your initial message, you've already listed the tables, and `sales_tb` is confirmed to exist.)\n",
      "\n",
      "2. **Investigate Further (Optional)**:\n",
      "   - **All Ages by Gender**: If interested in the distribution across all ages:\n",
      "     ```sql\n",
      "     SELECT gender, age, COUNT(*) as count FROM sales_tb GROUP BY gender, age\n",
      "     ```\n",
      "   - **Female Count at Other Ages (to contextualize the 0 result)**:\n",
      "     ```sql\n",
      "     SELECT age, COUNT(*) as female_count FROM sales_tb WHERE gender = 'Female' GROUP BY age\n",
      "     ```\n",
      "\n",
      "**How Would You Like to Proceed?**\n",
      "\n",
      "A) Run one of the suggested follow-up queries above (specify which)\n",
      "B) Ask a new question\n",
      "C) Clarify/Modify the current query (e.g., check for `NULL` ages, or a different age group)\n",
      "D) Other (please specify)\n"
     ]
    }
   ],
   "source": [
    "for msg in response['messages']:\n",
    "    msg.pretty_print()"
   ]
  },
  {
   "cell_type": "code",
   "execution_count": 55,
   "metadata": {},
   "outputs": [
    {
     "data": {
      "text/plain": [
       "[HumanMessage(content='How many male and female from age 19 in the sales table', additional_kwargs={}, response_metadata={}, id='a9eaca4b-a9e3-4820-aa64-e830fcdc8f17'),\n",
       " AIMessage(content='', additional_kwargs={'tool_calls': [{'id': 'call_0_35cfebd8-e133-452b-8455-bbca76645082', 'function': {'arguments': '{}', 'name': 'sql_db_list_tables'}, 'type': 'function', 'index': 0}], 'refusal': None}, response_metadata={'token_usage': {'completion_tokens': 17, 'prompt_tokens': 879, 'total_tokens': 896, 'completion_tokens_details': None, 'prompt_tokens_details': {'audio_tokens': None, 'cached_tokens': 256}, 'prompt_cache_hit_tokens': 256, 'prompt_cache_miss_tokens': 623}, 'model_name': 'deepseek-chat', 'system_fingerprint': 'fp_3d5141a69a_prod0225', 'id': '4cb0bcac-cd6e-4490-8788-283d97216bd9', 'finish_reason': 'tool_calls', 'logprobs': None}, id='run-5753aa22-f3fc-44dd-88ba-7394d09d09f6-0', tool_calls=[{'name': 'sql_db_list_tables', 'args': {}, 'id': 'call_0_35cfebd8-e133-452b-8455-bbca76645082', 'type': 'tool_call'}], usage_metadata={'input_tokens': 879, 'output_tokens': 17, 'total_tokens': 896, 'input_token_details': {'cache_read': 256}, 'output_token_details': {}}),\n",
       " ToolMessage(content='sales_tb, user_details', name='sql_db_list_tables', id='ec2cb345-e34e-4277-a031-11196b88bdbe', tool_call_id='call_0_35cfebd8-e133-452b-8455-bbca76645082'),\n",
       " AIMessage(content='', additional_kwargs={'tool_calls': [{'id': 'call_0_ad194ac4-ff2e-484b-a80d-67ac27eaadc2', 'function': {'arguments': '{\"table_names\":\"user_details\"}', 'name': 'sql_db_schema'}, 'type': 'function', 'index': 0}], 'refusal': None}, response_metadata={'token_usage': {'completion_tokens': 22, 'prompt_tokens': 907, 'total_tokens': 929, 'completion_tokens_details': None, 'prompt_tokens_details': {'audio_tokens': None, 'cached_tokens': 832}, 'prompt_cache_hit_tokens': 832, 'prompt_cache_miss_tokens': 75}, 'model_name': 'deepseek-chat', 'system_fingerprint': 'fp_3d5141a69a_prod0225', 'id': '366071bf-e9ff-492a-b962-1120c0f5c87b', 'finish_reason': 'tool_calls', 'logprobs': None}, id='run-603bdfdd-ac62-4ace-9e8d-c5568b584c27-0', tool_calls=[{'name': 'sql_db_schema', 'args': {'table_names': 'user_details'}, 'id': 'call_0_ad194ac4-ff2e-484b-a80d-67ac27eaadc2', 'type': 'tool_call'}], usage_metadata={'input_tokens': 907, 'output_tokens': 22, 'total_tokens': 929, 'input_token_details': {'cache_read': 832}, 'output_token_details': {}}),\n",
       " ToolMessage(content='\\nCREATE TABLE user_details (\\n\\tuser_id INTEGER NOT NULL AUTO_INCREMENT, \\n\\tusername VARCHAR(255), \\n\\tfirst_name VARCHAR(50), \\n\\tlast_name VARCHAR(50), \\n\\tgender VARCHAR(10), \\n\\tpassword VARCHAR(50), \\n\\tstatus TINYINT, \\n\\tPRIMARY KEY (user_id)\\n)ENGINE=MyISAM DEFAULT CHARSET=latin1\\n\\n/*\\n3 rows from user_details table:\\nuser_id\\tusername\\tfirst_name\\tlast_name\\tgender\\tpassword\\tstatus\\n1\\trogers63\\tdavid\\tjohn\\tFemale\\te6a33eee180b07e563d74fee8c2c66b8\\t1\\n2\\tmike28\\trogers\\tpaul\\tMale\\t2e7dc6b8a1598f4f75c3eaa47958ee2f\\t1\\n3\\trivera92\\tdavid\\tjohn\\tMale\\t1c3a8e03f448d211904161a6f5849b68\\t1\\n*/', name='sql_db_schema', id='a7113939-9c7c-4a3f-8ba2-cd61cf11f32a', tool_call_id='call_0_ad194ac4-ff2e-484b-a80d-67ac27eaadc2'),\n",
       " AIMessage(content='', additional_kwargs={'tool_calls': [{'id': 'call_0_ec62f964-b2ff-43a5-8bc4-babfcf33e335', 'function': {'arguments': '{\"table_names\":\"sales_tb\"}', 'name': 'sql_db_schema'}, 'type': 'function', 'index': 0}], 'refusal': None}, response_metadata={'token_usage': {'completion_tokens': 23, 'prompt_tokens': 1152, 'total_tokens': 1175, 'completion_tokens_details': None, 'prompt_tokens_details': {'audio_tokens': None, 'cached_tokens': 0}, 'prompt_cache_hit_tokens': 0, 'prompt_cache_miss_tokens': 1152}, 'model_name': 'deepseek-chat', 'system_fingerprint': 'fp_3d5141a69a_prod0225', 'id': 'da6fdc94-cfc4-4916-b1ea-e9080f474cc4', 'finish_reason': 'tool_calls', 'logprobs': None}, id='run-9e7c6f32-914c-4ec5-a7cb-38125789d090-0', tool_calls=[{'name': 'sql_db_schema', 'args': {'table_names': 'sales_tb'}, 'id': 'call_0_ec62f964-b2ff-43a5-8bc4-babfcf33e335', 'type': 'tool_call'}], usage_metadata={'input_tokens': 1152, 'output_tokens': 23, 'total_tokens': 1175, 'input_token_details': {'cache_read': 0}, 'output_token_details': {}}),\n",
       " ToolMessage(content='\\nCREATE TABLE sales_tb (\\n\\t`TransactionID` INTEGER, \\n\\t`Date` DATE, \\n\\t`CustomerID` VARCHAR(10), \\n\\t`Gender` VARCHAR(10), \\n\\t`Age` INTEGER, \\n\\t`ProductCategory` VARCHAR(50), \\n\\t`Quantity` INTEGER, \\n\\t`PriceperUnit` DECIMAL(10, 2), \\n\\t`TotalAmount` DECIMAL(10, 2)\\n)ENGINE=InnoDB COLLATE utf8mb4_0900_ai_ci DEFAULT CHARSET=utf8mb4\\n\\n/*\\n3 rows from sales_tb table:\\nTransactionID\\tDate\\tCustomerID\\tGender\\tAge\\tProductCategory\\tQuantity\\tPriceperUnit\\tTotalAmount\\n1\\t2023-11-24\\tCUST001\\tMale\\t34\\tBeauty\\t3\\t50.00\\t150.00\\n2\\t2023-02-27\\tCUST002\\tFemale\\t26\\tClothing\\t2\\t500.00\\t1000.00\\n3\\t2023-01-13\\tCUST003\\tMale\\t50\\tElectronics\\t1\\t30.00\\t30.00\\n*/', name='sql_db_schema', id='6991d082-dd78-4f4c-bd0e-4d31c7b56417', tool_call_id='call_0_ec62f964-b2ff-43a5-8bc4-babfcf33e335'),\n",
       " AIMessage(content='', additional_kwargs={'tool_calls': [{'id': 'call_0_32ab98d4-e624-4800-bdf0-592cdd94c528', 'function': {'arguments': '{\"query\":\"SELECT Gender, COUNT(*) AS Count FROM sales_tb WHERE Age = 19 GROUP BY Gender;\"}', 'name': 'sql_db_query'}, 'type': 'function', 'index': 0}], 'refusal': None}, response_metadata={'token_usage': {'completion_tokens': 38, 'prompt_tokens': 1425, 'total_tokens': 1463, 'completion_tokens_details': None, 'prompt_tokens_details': {'audio_tokens': None, 'cached_tokens': 1152}, 'prompt_cache_hit_tokens': 1152, 'prompt_cache_miss_tokens': 273}, 'model_name': 'deepseek-chat', 'system_fingerprint': 'fp_3d5141a69a_prod0225', 'id': '5bd90d8f-7ca6-4dc1-b48b-990dae3436e6', 'finish_reason': 'tool_calls', 'logprobs': None}, id='run-181eb4f8-4bd6-4bfd-ae91-ca2f37d9faeb-0', tool_calls=[{'name': 'sql_db_query', 'args': {'query': 'SELECT Gender, COUNT(*) AS Count FROM sales_tb WHERE Age = 19 GROUP BY Gender;'}, 'id': 'call_0_32ab98d4-e624-4800-bdf0-592cdd94c528', 'type': 'tool_call'}], usage_metadata={'input_tokens': 1425, 'output_tokens': 38, 'total_tokens': 1463, 'input_token_details': {'cache_read': 1152}, 'output_token_details': {}}),\n",
       " ToolMessage(content=\"[('Male', 1)]\", name='sql_db_query', id='d057ef6c-1cdf-4e17-9512-dc37c27c4b9e', tool_call_id='call_0_32ab98d4-e624-4800-bdf0-592cdd94c528'),\n",
       " AIMessage(content='There is 1 male customer aged 19 in the sales table, and no female customers of the same age.', additional_kwargs={'refusal': None}, response_metadata={'token_usage': {'completion_tokens': 23, 'prompt_tokens': 1476, 'total_tokens': 1499, 'completion_tokens_details': None, 'prompt_tokens_details': {'audio_tokens': None, 'cached_tokens': 1408}, 'prompt_cache_hit_tokens': 1408, 'prompt_cache_miss_tokens': 68}, 'model_name': 'deepseek-chat', 'system_fingerprint': 'fp_3d5141a69a_prod0225', 'id': 'c0bf4d79-3384-4101-b027-0a3ddc5f95d6', 'finish_reason': 'stop', 'logprobs': None}, id='run-acb5bd74-70fb-4608-8b87-10faafd899b2-0', usage_metadata={'input_tokens': 1476, 'output_tokens': 23, 'total_tokens': 1499, 'input_token_details': {'cache_read': 1408}, 'output_token_details': {}})]"
      ]
     },
     "execution_count": 55,
     "metadata": {},
     "output_type": "execute_result"
    }
   ],
   "source": [
    "response['sql_result_deepseek']"
   ]
  },
  {
   "cell_type": "code",
   "execution_count": 56,
   "metadata": {},
   "outputs": [
    {
     "name": "stdout",
     "output_type": "stream",
     "text": [
      "================================\u001b[1m Human Message \u001b[0m=================================\n",
      "\n",
      "How many male and female from age 19 in the sales table\n",
      "==================================\u001b[1m Ai Message \u001b[0m==================================\n",
      "Tool Calls:\n",
      "  sql_db_list_tables (call_0_35cfebd8-e133-452b-8455-bbca76645082)\n",
      " Call ID: call_0_35cfebd8-e133-452b-8455-bbca76645082\n",
      "  Args:\n",
      "=================================\u001b[1m Tool Message \u001b[0m=================================\n",
      "Name: sql_db_list_tables\n",
      "\n",
      "sales_tb, user_details\n",
      "==================================\u001b[1m Ai Message \u001b[0m==================================\n",
      "Tool Calls:\n",
      "  sql_db_schema (call_0_ad194ac4-ff2e-484b-a80d-67ac27eaadc2)\n",
      " Call ID: call_0_ad194ac4-ff2e-484b-a80d-67ac27eaadc2\n",
      "  Args:\n",
      "    table_names: user_details\n",
      "=================================\u001b[1m Tool Message \u001b[0m=================================\n",
      "Name: sql_db_schema\n",
      "\n",
      "\n",
      "CREATE TABLE user_details (\n",
      "\tuser_id INTEGER NOT NULL AUTO_INCREMENT, \n",
      "\tusername VARCHAR(255), \n",
      "\tfirst_name VARCHAR(50), \n",
      "\tlast_name VARCHAR(50), \n",
      "\tgender VARCHAR(10), \n",
      "\tpassword VARCHAR(50), \n",
      "\tstatus TINYINT, \n",
      "\tPRIMARY KEY (user_id)\n",
      ")ENGINE=MyISAM DEFAULT CHARSET=latin1\n",
      "\n",
      "/*\n",
      "3 rows from user_details table:\n",
      "user_id\tusername\tfirst_name\tlast_name\tgender\tpassword\tstatus\n",
      "1\trogers63\tdavid\tjohn\tFemale\te6a33eee180b07e563d74fee8c2c66b8\t1\n",
      "2\tmike28\trogers\tpaul\tMale\t2e7dc6b8a1598f4f75c3eaa47958ee2f\t1\n",
      "3\trivera92\tdavid\tjohn\tMale\t1c3a8e03f448d211904161a6f5849b68\t1\n",
      "*/\n",
      "==================================\u001b[1m Ai Message \u001b[0m==================================\n",
      "Tool Calls:\n",
      "  sql_db_schema (call_0_ec62f964-b2ff-43a5-8bc4-babfcf33e335)\n",
      " Call ID: call_0_ec62f964-b2ff-43a5-8bc4-babfcf33e335\n",
      "  Args:\n",
      "    table_names: sales_tb\n",
      "=================================\u001b[1m Tool Message \u001b[0m=================================\n",
      "Name: sql_db_schema\n",
      "\n",
      "\n",
      "CREATE TABLE sales_tb (\n",
      "\t`TransactionID` INTEGER, \n",
      "\t`Date` DATE, \n",
      "\t`CustomerID` VARCHAR(10), \n",
      "\t`Gender` VARCHAR(10), \n",
      "\t`Age` INTEGER, \n",
      "\t`ProductCategory` VARCHAR(50), \n",
      "\t`Quantity` INTEGER, \n",
      "\t`PriceperUnit` DECIMAL(10, 2), \n",
      "\t`TotalAmount` DECIMAL(10, 2)\n",
      ")ENGINE=InnoDB COLLATE utf8mb4_0900_ai_ci DEFAULT CHARSET=utf8mb4\n",
      "\n",
      "/*\n",
      "3 rows from sales_tb table:\n",
      "TransactionID\tDate\tCustomerID\tGender\tAge\tProductCategory\tQuantity\tPriceperUnit\tTotalAmount\n",
      "1\t2023-11-24\tCUST001\tMale\t34\tBeauty\t3\t50.00\t150.00\n",
      "2\t2023-02-27\tCUST002\tFemale\t26\tClothing\t2\t500.00\t1000.00\n",
      "3\t2023-01-13\tCUST003\tMale\t50\tElectronics\t1\t30.00\t30.00\n",
      "*/\n",
      "==================================\u001b[1m Ai Message \u001b[0m==================================\n",
      "Tool Calls:\n",
      "  sql_db_query (call_0_32ab98d4-e624-4800-bdf0-592cdd94c528)\n",
      " Call ID: call_0_32ab98d4-e624-4800-bdf0-592cdd94c528\n",
      "  Args:\n",
      "    query: SELECT Gender, COUNT(*) AS Count FROM sales_tb WHERE Age = 19 GROUP BY Gender;\n",
      "=================================\u001b[1m Tool Message \u001b[0m=================================\n",
      "Name: sql_db_query\n",
      "\n",
      "[('Male', 1)]\n",
      "==================================\u001b[1m Ai Message \u001b[0m==================================\n",
      "\n",
      "There is 1 male customer aged 19 in the sales table, and no female customers of the same age.\n"
     ]
    }
   ],
   "source": [
    "for i in response['sql_result_deepseek']:\n",
    "    i.pretty_print()"
   ]
  },
  {
   "cell_type": "code",
   "execution_count": 57,
   "metadata": {},
   "outputs": [
    {
     "name": "stdout",
     "output_type": "stream",
     "text": [
      "================================\u001b[1m Human Message \u001b[0m=================================\n",
      "\n",
      "How many male and female from age 19 in the sales table\n",
      "==================================\u001b[1m Ai Message \u001b[0m==================================\n",
      "\n",
      "I need to know the table schema first to understand the table structure.\n",
      "Tool Calls:\n",
      "  sql_db_schema (aeb6ec44-1509-4b20-99b5-2d0af710ef19)\n",
      " Call ID: aeb6ec44-1509-4b20-99b5-2d0af710ef19\n",
      "  Args:\n",
      "    table_names: sales_tb\n",
      "=================================\u001b[1m Tool Message \u001b[0m=================================\n",
      "Name: sql_db_schema\n",
      "\n",
      "\n",
      "CREATE TABLE sales_tb (\n",
      "\t`TransactionID` INTEGER, \n",
      "\t`Date` DATE, \n",
      "\t`CustomerID` VARCHAR(10), \n",
      "\t`Gender` VARCHAR(10), \n",
      "\t`Age` INTEGER, \n",
      "\t`ProductCategory` VARCHAR(50), \n",
      "\t`Quantity` INTEGER, \n",
      "\t`PriceperUnit` DECIMAL(10, 2), \n",
      "\t`TotalAmount` DECIMAL(10, 2)\n",
      ")ENGINE=InnoDB COLLATE utf8mb4_0900_ai_ci DEFAULT CHARSET=utf8mb4\n",
      "\n",
      "/*\n",
      "3 rows from sales_tb table:\n",
      "TransactionID\tDate\tCustomerID\tGender\tAge\tProductCategory\tQuantity\tPriceperUnit\tTotalAmount\n",
      "1\t2023-11-24\tCUST001\tMale\t34\tBeauty\t3\t50.00\t150.00\n",
      "2\t2023-02-27\tCUST002\tFemale\t26\tClothing\t2\t500.00\t1000.00\n",
      "3\t2023-01-13\tCUST003\tMale\t50\tElectronics\t1\t30.00\t30.00\n",
      "*/\n",
      "==================================\u001b[1m Ai Message \u001b[0m==================================\n",
      "Tool Calls:\n",
      "  sql_db_query (eaba80d0-1a49-4b38-bcaf-295a47fae40e)\n",
      " Call ID: eaba80d0-1a49-4b38-bcaf-295a47fae40e\n",
      "  Args:\n",
      "    query: SELECT Gender, COUNT(*) FROM sales_tb WHERE Age = 19 GROUP BY Gender\n",
      "=================================\u001b[1m Tool Message \u001b[0m=================================\n",
      "Name: sql_db_query\n",
      "\n",
      "[('Male', 1)]\n",
      "==================================\u001b[1m Ai Message \u001b[0m==================================\n",
      "\n",
      "['\"', '```sql\\nSELECT Gender, COUNT(*) FROM sales_tb WHERE Age = 19 GROUP BY Gender\\n```', '\\n\\n{\\'Gender\\': \\'Male\\', \\'COUNT(*)\\': 1}\"']\n"
     ]
    }
   ],
   "source": [
    "for i in response['sql_result_gemini']:\n",
    "    i.pretty_print()"
   ]
  },
  {
   "cell_type": "code",
   "execution_count": 58,
   "metadata": {},
   "outputs": [
    {
     "data": {
      "text/plain": [
       "AIMessage(content='There is 1 male customer aged 19 in the sales table, and no female customers of the same age.', additional_kwargs={'refusal': None}, response_metadata={'token_usage': {'completion_tokens': 23, 'prompt_tokens': 1476, 'total_tokens': 1499, 'completion_tokens_details': None, 'prompt_tokens_details': {'audio_tokens': None, 'cached_tokens': 1408}, 'prompt_cache_hit_tokens': 1408, 'prompt_cache_miss_tokens': 68}, 'model_name': 'deepseek-chat', 'system_fingerprint': 'fp_3d5141a69a_prod0225', 'id': 'c0bf4d79-3384-4101-b027-0a3ddc5f95d6', 'finish_reason': 'stop', 'logprobs': None}, id='run-acb5bd74-70fb-4608-8b87-10faafd899b2-0', usage_metadata={'input_tokens': 1476, 'output_tokens': 23, 'total_tokens': 1499, 'input_token_details': {'cache_read': 1408}, 'output_token_details': {}})"
      ]
     },
     "execution_count": 58,
     "metadata": {},
     "output_type": "execute_result"
    }
   ],
   "source": [
    "response['sql_result_deepseek'][-1]"
   ]
  },
  {
   "cell_type": "code",
   "execution_count": 59,
   "metadata": {},
   "outputs": [
    {
     "data": {
      "text/plain": [
       "['\"',\n",
       " '```sql\\nSELECT Gender, COUNT(*) FROM sales_tb WHERE Age = 19 GROUP BY Gender\\n```',\n",
       " '\\n\\n{\\'Gender\\': \\'Male\\', \\'COUNT(*)\\': 1}\"']"
      ]
     },
     "execution_count": 59,
     "metadata": {},
     "output_type": "execute_result"
    }
   ],
   "source": [
    "response['sql_result_gemini'][-1].content"
   ]
  },
  {
   "cell_type": "code",
   "execution_count": null,
   "metadata": {},
   "outputs": [],
   "source": []
  }
 ],
 "metadata": {
  "kernelspec": {
   "display_name": "langgraphenv",
   "language": "python",
   "name": "python3"
  },
  "language_info": {
   "codemirror_mode": {
    "name": "ipython",
    "version": 3
   },
   "file_extension": ".py",
   "mimetype": "text/x-python",
   "name": "python",
   "nbconvert_exporter": "python",
   "pygments_lexer": "ipython3",
   "version": "3.11.11"
  }
 },
 "nbformat": 4,
 "nbformat_minor": 2
}
