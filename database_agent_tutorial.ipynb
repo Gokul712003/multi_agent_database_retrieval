{
 "cells": [
  {
   "cell_type": "code",
   "execution_count": 1,
   "metadata": {},
   "outputs": [
    {
     "name": "stderr",
     "output_type": "stream",
     "text": [
      "c:\\Users\\gokul\\anaconda3\\envs\\langgraphenv\\Lib\\site-packages\\tqdm\\auto.py:21: TqdmWarning: IProgress not found. Please update jupyter and ipywidgets. See https://ipywidgets.readthedocs.io/en/stable/user_install.html\n",
      "  from .autonotebook import tqdm as notebook_tqdm\n"
     ]
    },
    {
     "data": {
      "text/plain": [
       "True"
      ]
     },
     "execution_count": 1,
     "metadata": {},
     "output_type": "execute_result"
    }
   ],
   "source": [
    "from langgraph.types import Literal,Command\n",
    "from langgraph.graph import StateGraph,START,END,MessagesState\n",
    "from langchain_google_genai import ChatGoogleGenerativeAI\n",
    "from langchain_community.utilities import SQLDatabase\n",
    "from langchain_deepseek import ChatDeepSeek\n",
    "from dotenv import load_dotenv\n",
    "from langchain.chains import create_sql_query_chain\n",
    "from sqlalchemy import create_engine\n",
    "from langgraph.checkpoint.memory import MemorySaver\n",
    "from langchain_core.tools import tool\n",
    "from langgraph.prebuilt import create_react_agent\n",
    "from typing_extensions import TypedDict,List,Optional,Annotated\n",
    "from pydantic import Field,BaseModel\n",
    "import asyncio\n",
    "import os\n",
    "load_dotenv()"
   ]
  },
  {
   "cell_type": "code",
   "execution_count": 2,
   "metadata": {},
   "outputs": [],
   "source": [
    "class database(BaseModel):\n",
    "    query : str = Field(description='Query to be executed')\n",
    "    result : str = Field(description='Result of the query')"
   ]
  },
  {
   "cell_type": "code",
   "execution_count": 3,
   "metadata": {},
   "outputs": [],
   "source": [
    "gemini_model = ChatGoogleGenerativeAI(model='gemini-2.0-flash',temperature=0.5)\n"
   ]
  },
  {
   "cell_type": "code",
   "execution_count": 4,
   "metadata": {},
   "outputs": [],
   "source": [
    "db_user = 'root'\n",
    "db_password = 'gokul'\n",
    "db_host = 'localhost'\n",
    "db_name = 'retail_sales_db'\n",
    "\n",
    "engine = create_engine(f\"mysql+pymysql://{db_user}:{db_password}@{db_host}/{db_name}\")\n",
    "\n",
    "db = SQLDatabase(engine=engine)"
   ]
  },
  {
   "cell_type": "code",
   "execution_count": 5,
   "metadata": {},
   "outputs": [],
   "source": [
    "@tool\n",
    "def execute_sql_query(query: str) -> str:\n",
    "    \"\"\"\n",
    "    Executes the SQL query and returns the result.\n",
    "    \"\"\"\n",
    "    try:\n",
    "        result = db.run(query)\n",
    "        return str(result)\n",
    "    except Exception as e:\n",
    "        return str(e)\n",
    "    \n",
    "tools = [execute_sql_query]"
   ]
  },
  {
   "cell_type": "code",
   "execution_count": null,
   "metadata": {},
   "outputs": [],
   "source": [
    "from langchain_community.agent_toolkits import SQLDatabaseToolkit\n",
    "\n",
    "toolkit = SQLDatabaseToolkit(db=db, llm=gemini_model)\n",
    "tools = toolkit.get_tools()\n"
   ]
  },
  {
   "cell_type": "code",
   "execution_count": 18,
   "metadata": {},
   "outputs": [
    {
     "data": {
      "text/plain": [
       "[QuerySQLDatabaseTool(description=\"Input to this tool is a detailed and correct SQL query, output is a result from the database. If the query is not correct, an error message will be returned. If an error is returned, rewrite the query, check the query, and try again. If you encounter an issue with Unknown column 'xxxx' in 'field list', use sql_db_schema to query the correct table fields.\", db=<langchain_community.utilities.sql_database.SQLDatabase object at 0x000002AAE0025850>),\n",
       " InfoSQLDatabaseTool(description='Input to this tool is a comma-separated list of tables, output is the schema and sample rows for those tables. Be sure that the tables actually exist by calling sql_db_list_tables first! Example Input: table1, table2, table3', db=<langchain_community.utilities.sql_database.SQLDatabase object at 0x000002AAE0025850>),\n",
       " ListSQLDatabaseTool(db=<langchain_community.utilities.sql_database.SQLDatabase object at 0x000002AAE0025850>),\n",
       " QuerySQLCheckerTool(description='Use this tool to double check if your query is correct before executing it. Always use this tool before executing a query with sql_db_query!', db=<langchain_community.utilities.sql_database.SQLDatabase object at 0x000002AAE0025850>, llm=ChatGoogleGenerativeAI(model='models/gemini-2.0-flash', google_api_key=SecretStr('**********'), temperature=0.5, client=<google.ai.generativelanguage_v1beta.services.generative_service.client.GenerativeServiceClient object at 0x000002AADA243410>, default_metadata=()), llm_chain=LLMChain(verbose=False, prompt=PromptTemplate(input_variables=['dialect', 'query'], input_types={}, partial_variables={}, template='\\n{query}\\nDouble check the {dialect} query above for common mistakes, including:\\n- Using NOT IN with NULL values\\n- Using UNION when UNION ALL should have been used\\n- Using BETWEEN for exclusive ranges\\n- Data type mismatch in predicates\\n- Properly quoting identifiers\\n- Using the correct number of arguments for functions\\n- Casting to the correct data type\\n- Using the proper columns for joins\\n\\nIf there are any of the above mistakes, rewrite the query. If there are no mistakes, just reproduce the original query.\\n\\nOutput the final SQL query only.\\n\\nSQL Query: '), llm=ChatGoogleGenerativeAI(model='models/gemini-2.0-flash', google_api_key=SecretStr('**********'), temperature=0.5, client=<google.ai.generativelanguage_v1beta.services.generative_service.client.GenerativeServiceClient object at 0x000002AADA243410>, default_metadata=()), output_parser=StrOutputParser(), llm_kwargs={}))]"
      ]
     },
     "execution_count": 18,
     "metadata": {},
     "output_type": "execute_result"
    }
   ],
   "source": [
    "tools"
   ]
  },
  {
   "cell_type": "code",
   "execution_count": null,
   "metadata": {},
   "outputs": [],
   "source": [
    "def create_system_prompt():\n",
    "    tool_names = \"\"\n",
    "    tool_descriptions = \"\"\n",
    "    for tool in tools:\n",
    "        tool_names += f\"{tool.name}, \"\n",
    "        tool_descriptions += f\"{tool.description}, \"\n",
    "\n",
    "    sys_prompt = f\"\"\" You are a SQL Database manager, You can write sql queries and return results to the user,\n",
    "    These are the available tools for you {tool_names} and their descriptions are {tool_descriptions}\n",
    "    You can use these tools to get the information you need to answer the user's question.\n",
    "    Always return the query along with the result if you use QueryTool\"\"\"\n",
    "    \n",
    "    return sys_prompt"
   ]
  },
  {
   "cell_type": "code",
   "execution_count": 20,
   "metadata": {},
   "outputs": [
    {
     "data": {
      "text/plain": [
       "[QuerySQLDatabaseTool(description=\"Input to this tool is a detailed and correct SQL query, output is a result from the database. If the query is not correct, an error message will be returned. If an error is returned, rewrite the query, check the query, and try again. If you encounter an issue with Unknown column 'xxxx' in 'field list', use sql_db_schema to query the correct table fields.\", db=<langchain_community.utilities.sql_database.SQLDatabase object at 0x000002AAE0025850>),\n",
       " InfoSQLDatabaseTool(description='Input to this tool is a comma-separated list of tables, output is the schema and sample rows for those tables. Be sure that the tables actually exist by calling sql_db_list_tables first! Example Input: table1, table2, table3', db=<langchain_community.utilities.sql_database.SQLDatabase object at 0x000002AAE0025850>),\n",
       " ListSQLDatabaseTool(db=<langchain_community.utilities.sql_database.SQLDatabase object at 0x000002AAE0025850>),\n",
       " QuerySQLCheckerTool(description='Use this tool to double check if your query is correct before executing it. Always use this tool before executing a query with sql_db_query!', db=<langchain_community.utilities.sql_database.SQLDatabase object at 0x000002AAE0025850>, llm=ChatGoogleGenerativeAI(model='models/gemini-2.0-flash', google_api_key=SecretStr('**********'), temperature=0.5, client=<google.ai.generativelanguage_v1beta.services.generative_service.client.GenerativeServiceClient object at 0x000002AADA243410>, default_metadata=()), llm_chain=LLMChain(verbose=False, prompt=PromptTemplate(input_variables=['dialect', 'query'], input_types={}, partial_variables={}, template='\\n{query}\\nDouble check the {dialect} query above for common mistakes, including:\\n- Using NOT IN with NULL values\\n- Using UNION when UNION ALL should have been used\\n- Using BETWEEN for exclusive ranges\\n- Data type mismatch in predicates\\n- Properly quoting identifiers\\n- Using the correct number of arguments for functions\\n- Casting to the correct data type\\n- Using the proper columns for joins\\n\\nIf there are any of the above mistakes, rewrite the query. If there are no mistakes, just reproduce the original query.\\n\\nOutput the final SQL query only.\\n\\nSQL Query: '), llm=ChatGoogleGenerativeAI(model='models/gemini-2.0-flash', google_api_key=SecretStr('**********'), temperature=0.5, client=<google.ai.generativelanguage_v1beta.services.generative_service.client.GenerativeServiceClient object at 0x000002AADA243410>, default_metadata=()), output_parser=StrOutputParser(), llm_kwargs={}))]"
      ]
     },
     "execution_count": 20,
     "metadata": {},
     "output_type": "execute_result"
    }
   ],
   "source": [
    "tools"
   ]
  },
  {
   "cell_type": "code",
   "execution_count": 21,
   "metadata": {},
   "outputs": [],
   "source": [
    "gemini_agent = create_react_agent(\n",
    "    model=gemini_model,\n",
    "    tools = tools,\n",
    "    #response_format = database,\n",
    "    prompt=create_system_prompt(),\n",
    ")"
   ]
  },
  {
   "cell_type": "code",
   "execution_count": 22,
   "metadata": {},
   "outputs": [],
   "source": [
    "response=gemini_agent.invoke({'messages':\"hello can you tell me what's inside the db retail sales?\"})"
   ]
  },
  {
   "cell_type": "code",
   "execution_count": 15,
   "metadata": {},
   "outputs": [
    {
     "name": "stdout",
     "output_type": "stream",
     "text": [
      "================================\u001b[1m Human Message \u001b[0m=================================\n",
      "\n",
      "hello can you tell me what's inside the db retail sales?\n",
      "==================================\u001b[1m Ai Message \u001b[0m==================================\n",
      "Tool Calls:\n",
      "  sql_db_list_tables (140f96d1-1a80-4a2d-b8e9-506f8afee703)\n",
      " Call ID: 140f96d1-1a80-4a2d-b8e9-506f8afee703\n",
      "  Args:\n",
      "=================================\u001b[1m Tool Message \u001b[0m=================================\n",
      "Name: sql_db_list_tables\n",
      "\n",
      "sales_tb, user_details\n",
      "==================================\u001b[1m Ai Message \u001b[0m==================================\n",
      "\n",
      "Okay, the database contains two tables: `sales_tb` and `user_details`. Which table would you like to know more about?\n"
     ]
    }
   ],
   "source": [
    "for msg in response['messages']:\n",
    "    msg.pretty_print()"
   ]
  },
  {
   "cell_type": "code",
   "execution_count": 17,
   "metadata": {},
   "outputs": [
    {
     "data": {
      "text/plain": [
       "database(query='SELECT * FROM sales_tb LIMIT 10', result='10 rows from sales_tb')"
      ]
     },
     "execution_count": 17,
     "metadata": {},
     "output_type": "execute_result"
    }
   ],
   "source": [
    "response['structured_response']"
   ]
  },
  {
   "cell_type": "code",
   "execution_count": 23,
   "metadata": {},
   "outputs": [],
   "source": [
    "response=gemini_agent.invoke({'messages':\"Can you tell me which product is the costliest?\"})"
   ]
  },
  {
   "cell_type": "code",
   "execution_count": 24,
   "metadata": {},
   "outputs": [
    {
     "name": "stdout",
     "output_type": "stream",
     "text": [
      "================================\u001b[1m Human Message \u001b[0m=================================\n",
      "\n",
      "Can you tell me which product is the costliest?\n",
      "==================================\u001b[1m Ai Message \u001b[0m==================================\n",
      "Tool Calls:\n",
      "  sql_db_query (fb7a3ea7-ff8f-4ff7-9dd0-0023a9b4e9d9)\n",
      " Call ID: fb7a3ea7-ff8f-4ff7-9dd0-0023a9b4e9d9\n",
      "  Args:\n",
      "    query: SELECT ProductName FROM Products ORDER BY Price DESC LIMIT 1\n",
      "=================================\u001b[1m Tool Message \u001b[0m=================================\n",
      "Name: sql_db_query\n",
      "\n",
      "Error: (pymysql.err.ProgrammingError) (1146, \"Table 'retail_sales_db.products' doesn't exist\")\n",
      "[SQL: SELECT ProductName FROM Products ORDER BY Price DESC LIMIT 1]\n",
      "(Background on this error at: https://sqlalche.me/e/20/f405)\n",
      "==================================\u001b[1m Ai Message \u001b[0m==================================\n",
      "\n",
      "It seems I made a mistake in the table name. I should first check what tables are available.\n",
      "Tool Calls:\n",
      "  sql_db_list_tables (6f65e30c-d9be-4a97-ae33-2fafce09654d)\n",
      " Call ID: 6f65e30c-d9be-4a97-ae33-2fafce09654d\n",
      "  Args:\n",
      "=================================\u001b[1m Tool Message \u001b[0m=================================\n",
      "Name: sql_db_list_tables\n",
      "\n",
      "sales_tb, user_details\n",
      "==================================\u001b[1m Ai Message \u001b[0m==================================\n",
      "Tool Calls:\n",
      "  sql_db_schema (40bad9ff-4409-491b-abea-2292dd0e1534)\n",
      " Call ID: 40bad9ff-4409-491b-abea-2292dd0e1534\n",
      "  Args:\n",
      "    table_names: sales_tb\n",
      "=================================\u001b[1m Tool Message \u001b[0m=================================\n",
      "Name: sql_db_schema\n",
      "\n",
      "\n",
      "CREATE TABLE sales_tb (\n",
      "\t`TransactionID` INTEGER, \n",
      "\t`Date` DATE, \n",
      "\t`CustomerID` VARCHAR(10), \n",
      "\t`Gender` VARCHAR(10), \n",
      "\t`Age` INTEGER, \n",
      "\t`ProductCategory` VARCHAR(50), \n",
      "\t`Quantity` INTEGER, \n",
      "\t`PriceperUnit` DECIMAL(10, 2), \n",
      "\t`TotalAmount` DECIMAL(10, 2)\n",
      ")ENGINE=InnoDB DEFAULT CHARSET=utf8mb4 COLLATE utf8mb4_0900_ai_ci\n",
      "\n",
      "/*\n",
      "3 rows from sales_tb table:\n",
      "TransactionID\tDate\tCustomerID\tGender\tAge\tProductCategory\tQuantity\tPriceperUnit\tTotalAmount\n",
      "1\t2023-11-24\tCUST001\tMale\t34\tBeauty\t3\t50.00\t150.00\n",
      "2\t2023-02-27\tCUST002\tFemale\t26\tClothing\t2\t500.00\t1000.00\n",
      "3\t2023-01-13\tCUST003\tMale\t50\tElectronics\t1\t30.00\t30.00\n",
      "*/\n",
      "==================================\u001b[1m Ai Message \u001b[0m==================================\n",
      "Tool Calls:\n",
      "  sql_db_query (9ad099c8-ffab-49cc-9de0-bdd740df80a5)\n",
      " Call ID: 9ad099c8-ffab-49cc-9de0-bdd740df80a5\n",
      "  Args:\n",
      "    query: SELECT ProductCategory FROM sales_tb ORDER BY PriceperUnit DESC LIMIT 1\n",
      "=================================\u001b[1m Tool Message \u001b[0m=================================\n",
      "Name: sql_db_query\n",
      "\n",
      "[('Clothing',)]\n",
      "==================================\u001b[1m Ai Message \u001b[0m==================================\n",
      "\n",
      "['The costliest product category is Clothing.', '```sql\\nSELECT ProductCategory FROM sales_tb ORDER BY PriceperUnit DESC LIMIT 1\\n```']\n"
     ]
    }
   ],
   "source": [
    "for msg in response['messages']:\n",
    "    msg.pretty_print()"
   ]
  },
  {
   "cell_type": "code",
   "execution_count": 32,
   "metadata": {},
   "outputs": [
    {
     "name": "stdout",
     "output_type": "stream",
     "text": [
      "['The costliest product category is Clothing.', '```sql\\nSELECT ProductCategory FROM sales_tb ORDER BY PriceperUnit DESC LIMIT 1\\n```']\n"
     ]
    }
   ],
   "source": [
    "print(response['messages'][-1].content)"
   ]
  },
  {
   "cell_type": "code",
   "execution_count": 33,
   "metadata": {},
   "outputs": [
    {
     "data": {
      "text/plain": [
       "{'messages': [HumanMessage(content='Can you tell me which product is the costliest?', additional_kwargs={}, response_metadata={}, id='430195f0-a1a9-4913-a722-707ef365bbdf'),\n",
       "  AIMessage(content='', additional_kwargs={'function_call': {'name': 'sql_db_query', 'arguments': '{\"query\": \"SELECT ProductName FROM Products ORDER BY Price DESC LIMIT 1\"}'}}, response_metadata={'prompt_feedback': {'block_reason': 0, 'safety_ratings': []}, 'finish_reason': 'STOP', 'safety_ratings': []}, id='run-ba120137-8d44-4456-bfb3-4bf4d412c9de-0', tool_calls=[{'name': 'sql_db_query', 'args': {'query': 'SELECT ProductName FROM Products ORDER BY Price DESC LIMIT 1'}, 'id': 'fb7a3ea7-ff8f-4ff7-9dd0-0023a9b4e9d9', 'type': 'tool_call'}], usage_metadata={'input_tokens': 561, 'output_tokens': 18, 'total_tokens': 579, 'input_token_details': {'cache_read': 0}}),\n",
       "  ToolMessage(content='Error: (pymysql.err.ProgrammingError) (1146, \"Table \\'retail_sales_db.products\\' doesn\\'t exist\")\\n[SQL: SELECT ProductName FROM Products ORDER BY Price DESC LIMIT 1]\\n(Background on this error at: https://sqlalche.me/e/20/f405)', name='sql_db_query', id='1abccc8e-5ee2-4b8c-85e8-3bed39e30ec3', tool_call_id='fb7a3ea7-ff8f-4ff7-9dd0-0023a9b4e9d9'),\n",
       "  AIMessage(content='It seems I made a mistake in the table name. I should first check what tables are available.', additional_kwargs={'function_call': {'name': 'sql_db_list_tables', 'arguments': '{}'}}, response_metadata={'prompt_feedback': {'block_reason': 0, 'safety_ratings': []}, 'finish_reason': 'STOP', 'safety_ratings': []}, id='run-67b72949-66ef-438d-a5f9-cd7b9f2d68c9-0', tool_calls=[{'name': 'sql_db_list_tables', 'args': {}, 'id': '6f65e30c-d9be-4a97-ae33-2fafce09654d', 'type': 'tool_call'}], usage_metadata={'input_tokens': 661, 'output_tokens': 28, 'total_tokens': 689, 'input_token_details': {'cache_read': 0}}),\n",
       "  ToolMessage(content='sales_tb, user_details', name='sql_db_list_tables', id='2a9f8610-a20b-419e-9c43-1dbc371c23ea', tool_call_id='6f65e30c-d9be-4a97-ae33-2fafce09654d'),\n",
       "  AIMessage(content='', additional_kwargs={'function_call': {'name': 'sql_db_schema', 'arguments': '{\"table_names\": \"sales_tb\"}'}}, response_metadata={'prompt_feedback': {'block_reason': 0, 'safety_ratings': []}, 'finish_reason': 'STOP', 'safety_ratings': []}, id='run-967e9907-5539-441d-a5d9-2eccffe48331-0', tool_calls=[{'name': 'sql_db_schema', 'args': {'table_names': 'sales_tb'}, 'id': '40bad9ff-4409-491b-abea-2292dd0e1534', 'type': 'tool_call'}], usage_metadata={'input_tokens': 683, 'output_tokens': 11, 'total_tokens': 694, 'input_token_details': {'cache_read': 0}}),\n",
       "  ToolMessage(content='\\nCREATE TABLE sales_tb (\\n\\t`TransactionID` INTEGER, \\n\\t`Date` DATE, \\n\\t`CustomerID` VARCHAR(10), \\n\\t`Gender` VARCHAR(10), \\n\\t`Age` INTEGER, \\n\\t`ProductCategory` VARCHAR(50), \\n\\t`Quantity` INTEGER, \\n\\t`PriceperUnit` DECIMAL(10, 2), \\n\\t`TotalAmount` DECIMAL(10, 2)\\n)ENGINE=InnoDB DEFAULT CHARSET=utf8mb4 COLLATE utf8mb4_0900_ai_ci\\n\\n/*\\n3 rows from sales_tb table:\\nTransactionID\\tDate\\tCustomerID\\tGender\\tAge\\tProductCategory\\tQuantity\\tPriceperUnit\\tTotalAmount\\n1\\t2023-11-24\\tCUST001\\tMale\\t34\\tBeauty\\t3\\t50.00\\t150.00\\n2\\t2023-02-27\\tCUST002\\tFemale\\t26\\tClothing\\t2\\t500.00\\t1000.00\\n3\\t2023-01-13\\tCUST003\\tMale\\t50\\tElectronics\\t1\\t30.00\\t30.00\\n*/', name='sql_db_schema', id='1b7c3fc9-6eac-4b27-ad66-45e3d0c0bf4d', tool_call_id='40bad9ff-4409-491b-abea-2292dd0e1534'),\n",
       "  AIMessage(content='', additional_kwargs={'function_call': {'name': 'sql_db_query', 'arguments': '{\"query\": \"SELECT ProductCategory FROM sales_tb ORDER BY PriceperUnit DESC LIMIT 1\"}'}}, response_metadata={'prompt_feedback': {'block_reason': 0, 'safety_ratings': []}, 'finish_reason': 'STOP', 'safety_ratings': []}, id='run-62331168-766e-455f-ad05-f9d3af0a1b1d-0', tool_calls=[{'name': 'sql_db_query', 'args': {'query': 'SELECT ProductCategory FROM sales_tb ORDER BY PriceperUnit DESC LIMIT 1'}, 'id': '9ad099c8-ffab-49cc-9de0-bdd740df80a5', 'type': 'tool_call'}], usage_metadata={'input_tokens': 990, 'output_tokens': 22, 'total_tokens': 1012, 'input_token_details': {'cache_read': 0}}),\n",
       "  ToolMessage(content=\"[('Clothing',)]\", name='sql_db_query', id='e5659af1-d3ad-458c-9cff-f4cb41ee0e31', tool_call_id='9ad099c8-ffab-49cc-9de0-bdd740df80a5'),\n",
       "  AIMessage(content=['The costliest product category is Clothing.', '```sql\\nSELECT ProductCategory FROM sales_tb ORDER BY PriceperUnit DESC LIMIT 1\\n```'], additional_kwargs={}, response_metadata={'prompt_feedback': {'block_reason': 0, 'safety_ratings': []}, 'finish_reason': 'STOP', 'safety_ratings': []}, id='run-5164e409-3450-4e6a-a424-cb3b41f5984a-0', usage_metadata={'input_tokens': 1023, 'output_tokens': 30, 'total_tokens': 1053, 'input_token_details': {'cache_read': 0}})]}"
      ]
     },
     "execution_count": 33,
     "metadata": {},
     "output_type": "execute_result"
    }
   ],
   "source": [
    "response"
   ]
  },
  {
   "cell_type": "code",
   "execution_count": 34,
   "metadata": {},
   "outputs": [
    {
     "name": "stdout",
     "output_type": "stream",
     "text": [
      "<class 'list'>\n"
     ]
    }
   ],
   "source": [
    "print(type(response['messages'][-1].content))"
   ]
  },
  {
   "cell_type": "code",
   "execution_count": null,
   "metadata": {},
   "outputs": [],
   "source": []
  }
 ],
 "metadata": {
  "kernelspec": {
   "display_name": "langgraphenv",
   "language": "python",
   "name": "python3"
  },
  "language_info": {
   "codemirror_mode": {
    "name": "ipython",
    "version": 3
   },
   "file_extension": ".py",
   "mimetype": "text/x-python",
   "name": "python",
   "nbconvert_exporter": "python",
   "pygments_lexer": "ipython3",
   "version": "3.11.11"
  }
 },
 "nbformat": 4,
 "nbformat_minor": 2
}
